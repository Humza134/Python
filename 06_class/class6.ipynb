{
 "cells": [
  {
   "cell_type": "markdown",
   "metadata": {},
   "source": [
    "# if-else-elif\n",
    "```\n",
    "\n",
    "if logic:\n",
    "    True_block\n",
    "else:\n",
    "    False_block\n",
    "```\n",
    "\n",
    "## comprehensive if-else\n",
    "```\n",
    "True_block if logic else False block\n",
    "```\n",
    "\n",
    "* if\n",
    "* if-else\n",
    "* if-elif-else"
   ]
  },
  {
   "cell_type": "code",
   "execution_count": 1,
   "metadata": {},
   "outputs": [
    {
     "name": "stdout",
     "output_type": "stream",
     "text": [
      "Pakistan\n"
     ]
    }
   ],
   "source": [
    "if True:\n",
    "    print(\"Pakistan\")\n",
    "else:\n",
    "    print(\"Hello\")"
   ]
  },
  {
   "cell_type": "code",
   "execution_count": 2,
   "metadata": {},
   "outputs": [
    {
     "name": "stdout",
     "output_type": "stream",
     "text": [
      "Hello\n"
     ]
    }
   ],
   "source": [
    "if False:\n",
    "    print(\"Pakistan\")\n",
    "else:\n",
    "    print(\"Hello\")"
   ]
  },
  {
   "cell_type": "code",
   "execution_count": 3,
   "metadata": {},
   "outputs": [
    {
     "name": "stdout",
     "output_type": "stream",
     "text": [
      "Pakistan\n"
     ]
    }
   ],
   "source": [
    "# True_block       logic      False_block\n",
    "print(\"Pakistan\") if True else print(\"Hello\")"
   ]
  },
  {
   "cell_type": "code",
   "execution_count": 4,
   "metadata": {},
   "outputs": [
    {
     "name": "stdout",
     "output_type": "stream",
     "text": [
      "Hello\n"
     ]
    }
   ],
   "source": [
    "# True_block       logic      False_block\n",
    "print(\"Pakistan\") if False else print(\"Hello\")"
   ]
  },
  {
   "cell_type": "markdown",
   "metadata": {},
   "source": [
    "# Compression Operators\n",
    "\n",
    "* ==\n",
    "* `>=`\n",
    "* `<=`\n",
    "* !=\n",
    "\n",
    "# Logic\n",
    "\n",
    "* and\n",
    "* or\n",
    "* not\n"
   ]
  },
  {
   "cell_type": "code",
   "execution_count": 1,
   "metadata": {},
   "outputs": [
    {
     "name": "stdout",
     "output_type": "stream",
     "text": [
      "Pakistan\n",
      "1\n",
      "2\n"
     ]
    }
   ],
   "source": [
    "if True:\n",
    "    print(\"Pakistan\")\n",
    "print('1')\n",
    "print('2')"
   ]
  },
  {
   "cell_type": "code",
   "execution_count": 2,
   "metadata": {},
   "outputs": [
    {
     "name": "stdout",
     "output_type": "stream",
     "text": [
      "1\n",
      "2\n"
     ]
    }
   ],
   "source": [
    "if False:\n",
    "    print(\"Pakistan\")\n",
    "print('1')\n",
    "print('2')"
   ]
  },
  {
   "cell_type": "code",
   "execution_count": 3,
   "metadata": {},
   "outputs": [
    {
     "name": "stdout",
     "output_type": "stream",
     "text": [
      "true block\n"
     ]
    }
   ],
   "source": [
    "if True:\n",
    "    print(\"true block\")\n",
    "elif False:\n",
    "    print(\"elif 1\")\n",
    "elif False:\n",
    "    print(\"elif 2\")\n",
    "elif False:\n",
    "    print(\"elif 3\")\n",
    "else:\n",
    "    print(\"else block\")\n",
    "    "
   ]
  },
  {
   "cell_type": "code",
   "execution_count": 4,
   "metadata": {},
   "outputs": [
    {
     "name": "stdout",
     "output_type": "stream",
     "text": [
      "elif 1\n"
     ]
    }
   ],
   "source": [
    "if False:\n",
    "    print(\"true block\")\n",
    "elif True:\n",
    "    print(\"elif 1\")\n",
    "elif False:\n",
    "    print(\"elif 2\")\n",
    "elif False:\n",
    "    print(\"elif 3\")\n",
    "else:\n",
    "    print(\"else block\")\n",
    "    "
   ]
  },
  {
   "cell_type": "code",
   "execution_count": 6,
   "metadata": {},
   "outputs": [
    {
     "name": "stdout",
     "output_type": "stream",
     "text": [
      "elif 2\n",
      "Pakistan\n"
     ]
    }
   ],
   "source": [
    "if False:\n",
    "    print(\"true block\")\n",
    "elif False:\n",
    "    print(\"elif 1\")\n",
    "elif True:\n",
    "    print(\"elif 2\")\n",
    "elif True:\n",
    "    print(\"elif 3\")\n",
    "else:\n",
    "    print(\"else block\")\n",
    "\n",
    "print(\"Pakistan\")\n",
    "    "
   ]
  },
  {
   "cell_type": "code",
   "execution_count": 7,
   "metadata": {},
   "outputs": [
    {
     "name": "stdout",
     "output_type": "stream",
     "text": [
      "else block\n",
      "Pakistan\n"
     ]
    }
   ],
   "source": [
    "if False:\n",
    "    print(\"true block\")\n",
    "elif False:\n",
    "    print(\"elif 1\")\n",
    "elif False:\n",
    "    print(\"elif 2\")\n",
    "elif False:\n",
    "    print(\"elif 3\")\n",
    "else:\n",
    "    print(\"else block\")\n",
    "\n",
    "print(\"Pakistan\")\n",
    "    "
   ]
  },
  {
   "cell_type": "markdown",
   "metadata": {},
   "source": [
    "# Grading Rule"
   ]
  },
  {
   "cell_type": "code",
   "execution_count": null,
   "metadata": {},
   "outputs": [],
   "source": [
    "from typing import Union\n",
    "\n",
    "per : Union[int,float] = 88\n",
    "# per : int | float = 88\n",
    "\n",
    "grade : Union[str,None] = None \n",
    "# grade : Optional[str] = None\n",
    "\n",
    "if per >= 80:\n",
    "    grade = \"A+\"\n",
    "elif per >= 70:\n",
    "    grade = \"A\"\n",
    "elif per >= 60:\n",
    "    grade = \"B\"\n",
    "elif per >= 50:\n",
    "    grade = \"C\"\n",
    "elif per >= 40:\n",
    "    grade = \"D\"\n",
    "elif per >= 33:\n",
    "    grade = \"E\"\n",
    "else:\n",
    "    grade = \"Fail\"\n",
    "\n",
    "print(f\"Dear student your percentage is {per} now your calculated grade is:\\t {grade}\")"
   ]
  },
  {
   "cell_type": "code",
   "execution_count": 8,
   "metadata": {},
   "outputs": [
    {
     "name": "stdout",
     "output_type": "stream",
     "text": [
      "Dear student your percentage is 46 now your calculated grade is:\t D\n"
     ]
    }
   ],
   "source": [
    "from typing import Union\n",
    "\n",
    "per : Union[int,float] = int(input(\"Enter your percentage:\\t\"))\n",
    "\n",
    "grade : Union[str,None] = None\n",
    "\n",
    "if per >= 80:\n",
    "    grade = \"A+\"\n",
    "elif per >= 70:\n",
    "    grade = \"A\"\n",
    "elif per >= 60:\n",
    "    grade = \"B\"\n",
    "elif per >= 50:\n",
    "    grade = \"C\"\n",
    "elif per >= 40:\n",
    "    grade = \"D\"\n",
    "elif per >= 33:\n",
    "    grade = \"E\"\n",
    "else:\n",
    "    grade = \"Fail\"\n",
    "\n",
    "print(f\"Dear student your percentage is {per} now your calculated grade is:\\t {grade}\")"
   ]
  },
  {
   "cell_type": "markdown",
   "metadata": {},
   "source": [
    "# Logical Eror"
   ]
  },
  {
   "cell_type": "code",
   "execution_count": 11,
   "metadata": {},
   "outputs": [
    {
     "name": "stdout",
     "output_type": "stream",
     "text": [
      "Dear student your percentage is 78 now your calculated grade is:\t Fail\n"
     ]
    }
   ],
   "source": [
    "from typing import Union\n",
    "\n",
    "per : Union[int,float] = int(input(\"Enter your percentage:\\t\"))\n",
    "\n",
    "grade : Union[str,None] = None\n",
    "\n",
    "if per >= 0:\n",
    "    grade = \"Fail\"\n",
    "elif per >= 33:\n",
    "    grade = \"E\"\n",
    "elif per >= 40:\n",
    "    grade = \"E\"\n",
    "elif per >= 50:\n",
    "    grade = \"C\"\n",
    "elif per >= 60:\n",
    "    grade = \"B\"\n",
    "elif per >= 70:\n",
    "    grade = \"A\"\n",
    "else:\n",
    "    grade = \"A+\"\n",
    "\n",
    "print(f\"Dear student your percentage is {per} now your calculated grade is:\\t {grade}\")"
   ]
  },
  {
   "cell_type": "code",
   "execution_count": 15,
   "metadata": {},
   "outputs": [
    {
     "ename": "TypeError",
     "evalue": "'>=' not supported between instances of 'tuple' and 'int'",
     "output_type": "error",
     "traceback": [
      "\u001b[1;31m---------------------------------------------------------------------------\u001b[0m",
      "\u001b[1;31mTypeError\u001b[0m                                 Traceback (most recent call last)",
      "\u001b[1;32mc:\\Users\\HCC\\Desktop\\python\\06_class\\class6.ipynb Cell 18\u001b[0m line \u001b[0;36m7\n\u001b[0;32m      <a href='vscode-notebook-cell:/c%3A/Users/HCC/Desktop/python/06_class/class6.ipynb#X24sZmlsZQ%3D%3D?line=2'>3</a>\u001b[0m per : Union[\u001b[39mint\u001b[39m,\u001b[39mfloat\u001b[39m] \u001b[39m=\u001b[39m \u001b[39mint\u001b[39m,\u001b[39mfloat\u001b[39m(\u001b[39minput\u001b[39m(\u001b[39m\"\u001b[39m\u001b[39mEnter your percentage:\u001b[39m\u001b[39m\\t\u001b[39;00m\u001b[39m\"\u001b[39m))\n\u001b[0;32m      <a href='vscode-notebook-cell:/c%3A/Users/HCC/Desktop/python/06_class/class6.ipynb#X24sZmlsZQ%3D%3D?line=4'>5</a>\u001b[0m grade : Union[\u001b[39mstr\u001b[39m,\u001b[39mNone\u001b[39;00m] \u001b[39m=\u001b[39m \u001b[39mNone\u001b[39;00m\n\u001b[1;32m----> <a href='vscode-notebook-cell:/c%3A/Users/HCC/Desktop/python/06_class/class6.ipynb#X24sZmlsZQ%3D%3D?line=6'>7</a>\u001b[0m \u001b[39mif\u001b[39;00m (per \u001b[39m>\u001b[39;49m\u001b[39m=\u001b[39;49m \u001b[39m0\u001b[39;49m) \u001b[39mand\u001b[39;00m (per \u001b[39m<\u001b[39m \u001b[39m33\u001b[39m):\n\u001b[0;32m      <a href='vscode-notebook-cell:/c%3A/Users/HCC/Desktop/python/06_class/class6.ipynb#X24sZmlsZQ%3D%3D?line=7'>8</a>\u001b[0m     grade \u001b[39m=\u001b[39m \u001b[39m\"\u001b[39m\u001b[39mFail\u001b[39m\u001b[39m\"\u001b[39m\n\u001b[0;32m      <a href='vscode-notebook-cell:/c%3A/Users/HCC/Desktop/python/06_class/class6.ipynb#X24sZmlsZQ%3D%3D?line=8'>9</a>\u001b[0m \u001b[39melif\u001b[39;00m (per \u001b[39m>\u001b[39m\u001b[39m=\u001b[39m \u001b[39m33\u001b[39m) \u001b[39mand\u001b[39;00m (per \u001b[39m<\u001b[39m \u001b[39m40\u001b[39m):\n",
      "\u001b[1;31mTypeError\u001b[0m: '>=' not supported between instances of 'tuple' and 'int'"
     ]
    }
   ],
   "source": [
    "from typing import Union\n",
    "\n",
    "per : Union[int,float] = int(input(\"Enter your percentage:\\t\"))\n",
    "\n",
    "grade : Union[str,None] = None\n",
    "\n",
    "if (per >= 0) and (per < 33):\n",
    "    grade = \"Fail\"\n",
    "elif (per >= 33) and (per < 40):\n",
    "    grade = \"E\"\n",
    "elif (per >= 40) and (per < 50):\n",
    "    grade = \"E\"\n",
    "elif (per >= 50) and (per < 60):\n",
    "    grade = \"C\"\n",
    "elif (per >= 60) and (per < 70):\n",
    "    grade = \"B\"\n",
    "elif (per >= 70) and (per < 80):\n",
    "    grade = \"A\"\n",
    "elif (per >= 80) and (per <= 100):\n",
    "    grade = \"A+\"\n",
    "\n",
    "print(f\"Dear student your percentage is {per} now your calculated grade is:\\t {grade}\")"
   ]
  },
  {
   "cell_type": "code",
   "execution_count": 16,
   "metadata": {},
   "outputs": [
    {
     "name": "stdout",
     "output_type": "stream",
     "text": [
      "Dear student your percentage is 67.7 now your calculated grade is:\t B\n"
     ]
    }
   ],
   "source": [
    "from typing import Union\n",
    "\n",
    "per : Union[int,float] = float(input(\"Enter your percentage:\\t\"))\n",
    "\n",
    "grade : Union[str,None] = None\n",
    "\n",
    "if (per >= 0) and (per < 33):\n",
    "    grade = \"Fail\"\n",
    "elif (per >= 33) and (per < 40):\n",
    "    grade = \"E\"\n",
    "elif (per >= 40) and (per < 50):\n",
    "    grade = \"E\"\n",
    "elif (per >= 50) and (per < 60):\n",
    "    grade = \"C\"\n",
    "elif (per >= 60) and (per < 70):\n",
    "    grade = \"B\"\n",
    "elif (per >= 70) and (per < 80):\n",
    "    grade = \"A\"\n",
    "elif (per >= 80) and (per <= 100):\n",
    "    grade = \"A+\"\n",
    "\n",
    "print(f\"Dear student your percentage is {per} now your calculated grade is:\\t {grade}\")"
   ]
  },
  {
   "cell_type": "code",
   "execution_count": 23,
   "metadata": {},
   "outputs": [
    {
     "name": "stdout",
     "output_type": "stream",
     "text": [
      "[88, 90.9, 50, 51, 65, 70]\n",
      "['A+', 'A+', 'C', 'C', 'B', 'A']\n"
     ]
    },
    {
     "data": {
      "text/plain": [
       "[(88, 'A+', 0),\n",
       " (90.9, 'A+', 1),\n",
       " (50, 'C', 2),\n",
       " (51, 'C', 3),\n",
       " (65, 'B', 4),\n",
       " (70, 'A', 5)]"
      ]
     },
     "execution_count": 23,
     "metadata": {},
     "output_type": "execute_result"
    }
   ],
   "source": [
    "from typing import Union\n",
    "\n",
    "preType = Union[int,float]\n",
    "\n",
    "percentages : list[preType] = [88, 90.9, 50, 51, 65, 70 ]\n",
    "\n",
    "grades : list[str] = []\n",
    "\n",
    "for per in percentages:\n",
    "    grade : str = \"\"\n",
    "\n",
    "    if (per >= 0) and (per < 33):\n",
    "     grade = \"Fail\"\n",
    "    elif (per >= 33) and (per < 40):\n",
    "     grade = \"E\"\n",
    "    elif (per >= 40) and (per < 50):\n",
    "     grade = \"E\"\n",
    "    elif (per >= 50) and (per < 60):\n",
    "     grade = \"C\"\n",
    "    elif (per >= 60) and (per < 70):\n",
    "     grade = \"B\"\n",
    "    elif (per >= 70) and (per < 80):\n",
    "     grade = \"A\"\n",
    "    elif (per >= 80) and (per <= 100):\n",
    "     grade = \"A+\"\n",
    "\n",
    "    grades.append(grade)\n",
    "print(percentages)\n",
    "print(grades)\n",
    "    \n",
    "list(zip(percentages,grades, range(len(percentages))))\n"
   ]
  },
  {
   "cell_type": "code",
   "execution_count": 28,
   "metadata": {},
   "outputs": [
    {
     "name": "stdout",
     "output_type": "stream",
     "text": [
      "[0, 1, 2, 3, 4, 5]\n"
     ]
    }
   ],
   "source": [
    "roll_no : list[int] = list(range(len(percentages)))\n",
    "print(roll_no)"
   ]
  },
  {
   "cell_type": "code",
   "execution_count": 33,
   "metadata": {},
   "outputs": [
    {
     "data": {
      "text/plain": [
       "[(0, 88, 'A+'),\n",
       " (1, 90.9, 'A+'),\n",
       " (2, 50, 'C'),\n",
       " (3, 51, 'C'),\n",
       " (4, 65, 'B'),\n",
       " (5, 70, 'A')]"
      ]
     },
     "metadata": {},
     "output_type": "display_data"
    }
   ],
   "source": [
    "data_base = list(zip(roll_no, percentages, grades))\n",
    "display(data_base)"
   ]
  },
  {
   "cell_type": "code",
   "execution_count": 34,
   "metadata": {},
   "outputs": [
    {
     "data": {
      "text/plain": [
       "[(0, 88, 'A+'),\n",
       " (1, 90.9, 'A+'),\n",
       " (2, 50, 'C'),\n",
       " (3, 51, 'C'),\n",
       " (4, 65, 'B'),\n",
       " (5, 70, 'A')]"
      ]
     },
     "metadata": {},
     "output_type": "display_data"
    },
    {
     "data": {
      "text/plain": [
       "[(0, 88, 'A+'),\n",
       " (1, 90.9, 'A+'),\n",
       " (2, 50, 'C'),\n",
       " (3, 51, 'C'),\n",
       " (4, 65, 'B'),\n",
       " (5, 70, 'A')]"
      ]
     },
     "execution_count": 34,
     "metadata": {},
     "output_type": "execute_result"
    }
   ],
   "source": [
    "display(data_base)\n",
    "sorted(data_base)"
   ]
  },
  {
   "cell_type": "code",
   "execution_count": 35,
   "metadata": {},
   "outputs": [
    {
     "data": {
      "text/plain": [
       "[(0, 88, 'A+'),\n",
       " (1, 90.9, 'A+'),\n",
       " (2, 50, 'C'),\n",
       " (3, 51, 'C'),\n",
       " (4, 65, 'B'),\n",
       " (5, 70, 'A')]"
      ]
     },
     "metadata": {},
     "output_type": "display_data"
    },
    {
     "data": {
      "text/plain": [
       "[(2, 50, 'C'),\n",
       " (3, 51, 'C'),\n",
       " (4, 65, 'B'),\n",
       " (5, 70, 'A'),\n",
       " (0, 88, 'A+'),\n",
       " (1, 90.9, 'A+')]"
      ]
     },
     "execution_count": 35,
     "metadata": {},
     "output_type": "execute_result"
    }
   ],
   "source": [
    "display(data_base)\n",
    "sorted(data_base, key=lambda x:x[1])"
   ]
  },
  {
   "cell_type": "code",
   "execution_count": 36,
   "metadata": {},
   "outputs": [
    {
     "data": {
      "text/plain": [
       "[(0, 88, 'A+'),\n",
       " (1, 90.9, 'A+'),\n",
       " (2, 50, 'C'),\n",
       " (3, 51, 'C'),\n",
       " (4, 65, 'B'),\n",
       " (5, 70, 'A')]"
      ]
     },
     "metadata": {},
     "output_type": "display_data"
    },
    {
     "data": {
      "text/plain": [
       "[(1, 90.9, 'A+'),\n",
       " (0, 88, 'A+'),\n",
       " (5, 70, 'A'),\n",
       " (4, 65, 'B'),\n",
       " (3, 51, 'C'),\n",
       " (2, 50, 'C')]"
      ]
     },
     "execution_count": 36,
     "metadata": {},
     "output_type": "execute_result"
    }
   ],
   "source": [
    "display(data_base)\n",
    "sorted(data_base, key=lambda x:x[1],reverse=True)"
   ]
  },
  {
   "cell_type": "code",
   "execution_count": 8,
   "metadata": {},
   "outputs": [
    {
     "name": "stdout",
     "output_type": "stream",
     "text": [
      "AUDI\n",
      "mehran\n",
      "BMW\n",
      "SUBARO\n",
      "TOYOAT\n"
     ]
    }
   ],
   "source": [
    "cars : list[str] = [\"audi\",\"MEHRAN\", \"bmw\", \"subaro\", \"toyoat\"]\n",
    "\n",
    "for car in cars: # in = extract element from iterated type\n",
    "    if car != \"MEHRAN\":\n",
    "        print(car.upper())\n",
    "    else:\n",
    "        print(car.lower())\n",
    " "
   ]
  },
  {
   "cell_type": "code",
   "execution_count": 10,
   "metadata": {},
   "outputs": [
    {
     "name": "stdout",
     "output_type": "stream",
     "text": [
      "True\n",
      "Kamran you can post a response if you wish.\n"
     ]
    }
   ],
   "source": [
    "banned_users : list[str] = ['Hamza', 'Hamid', 'Azan']\n",
    "user : str = 'Kamran'\n",
    "\n",
    "print(user not in banned_users)\n",
    "\n",
    "if user not in banned_users:\n",
    "    print(f'{user.title()} you can post a response if you wish.')"
   ]
  },
  {
   "cell_type": "code",
   "execution_count": null,
   "metadata": {},
   "outputs": [],
   "source": [
    "available_toppings : list[str] = ['mushrooms','olives','green papers','peproni','extra cheese']\n",
    "\n",
    "requested_toppings : list[str] = ['mushrooms', 'french fries', 'extra cheese'] # user input\n",
    "\n",
    "for requested_toppings in requested_toppings:\n",
    "    if requested_toppings in available_toppings:\n",
    "        print(f'Adding {requested_toppings}')\n",
    "    else:\n",
    "        print(f\"Sorry we don't have {requested_toppings}\")\n",
    "\n",
    "print(\"\\n Finished making your pizzza!\")\n"
   ]
  },
  {
   "cell_type": "code",
   "execution_count": 11,
   "metadata": {},
   "outputs": [
    {
     "data": {
      "text/plain": [
       "['abc', 'yui', 'pol', '456']"
      ]
     },
     "execution_count": 11,
     "metadata": {},
     "output_type": "execute_result"
    }
   ],
   "source": [
    "input(\"Enter ',' sperated value in toppings \" ).split(\",\")"
   ]
  },
  {
   "cell_type": "code",
   "execution_count": 13,
   "metadata": {},
   "outputs": [
    {
     "name": "stdout",
     "output_type": "stream",
     "text": [
      "Sent otp on your registered number\n",
      "Welcome PIAIC\n"
     ]
    }
   ],
   "source": [
    "user_name : str = input(\"Enter your name: \\t\")\n",
    "user_password : str = input(\"Enter your password: \\t\")\n",
    "\n",
    "if user_name == \"Hamza\" and user_password == \"pgm\":\n",
    "    print(\"Sent otp on your registered number\")\n",
    "    otp : str = input(\"Please inter otp\")\n",
    "    if otp == '123':\n",
    "        print(\"Welcome PIAIC\")\n",
    "\n",
    "else:\n",
    "    print('Invalid user_name and password')\n",
    "    "
   ]
  }
 ],
 "metadata": {
  "kernelspec": {
   "display_name": "python12",
   "language": "python",
   "name": "python3"
  },
  "language_info": {
   "codemirror_mode": {
    "name": "ipython",
    "version": 3
   },
   "file_extension": ".py",
   "mimetype": "text/x-python",
   "name": "python",
   "nbconvert_exporter": "python",
   "pygments_lexer": "ipython3",
   "version": "3.12.0"
  }
 },
 "nbformat": 4,
 "nbformat_minor": 2
}
