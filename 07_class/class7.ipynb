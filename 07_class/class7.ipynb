{
 "cells": [
  {
   "cell_type": "markdown",
   "metadata": {},
   "source": [
    "###Type Casting"
   ]
  },
  {
   "cell_type": "code",
   "execution_count": 9,
   "metadata": {},
   "outputs": [
    {
     "name": "stdout",
     "output_type": "stream",
     "text": [
      "{1, 2, 4, 5}\n",
      "[1, 2, 4, 5]\n"
     ]
    }
   ],
   "source": [
    "abc : set = {1,2,1,1,1,4,5}\n",
    "print(abc)\n",
    "xyz : list[int] = list(abc)\n",
    "print(xyz)"
   ]
  },
  {
   "cell_type": "markdown",
   "metadata": {},
   "source": [
    "# Dictionary\n",
    " * key : value(items)\n",
    "    * key = replacement of index\n",
    "    * value = item\n",
    " * dict_variable[key]\n",
    "  * dict_variable[new_key] = new_value\n",
    "      * add new value\n",
    "      * update vaue  "
   ]
  },
  {
   "cell_type": "code",
   "execution_count": null,
   "metadata": {},
   "outputs": [],
   "source": [
    "# List               0         1       2\n",
    "data : list[str] = [\"Hamza\", \"Azan\", \"Hamid\"] "
   ]
  },
  {
   "cell_type": "code",
   "execution_count": 1,
   "metadata": {},
   "outputs": [
    {
     "data": {
      "text/plain": [
       "{'name': 'Muhammad Hamza', 'fname': 'Shabbir Ahmed', 'education': 'Gen Ai'}"
      ]
     },
     "metadata": {},
     "output_type": "display_data"
    }
   ],
   "source": [
    "from typing import Dict\n",
    "\n",
    "data : Dict[str,str] = {\n",
    "    'name' : 'Muhammad Hamza',\n",
    "    'fname': 'Shabbir Ahmed',\n",
    "    'education': 'Gen Ai'\n",
    "}\n",
    "\n",
    "display(data)"
   ]
  },
  {
   "cell_type": "code",
   "execution_count": 4,
   "metadata": {},
   "outputs": [
    {
     "name": "stdout",
     "output_type": "stream",
     "text": [
      "{'name': 'Muhammad Hamza', 'fname': 'Shabbir Ahmed', 'id': 87675, 'education': 'Gen Ai'}\n",
      "Muhammad Hamza\n"
     ]
    }
   ],
   "source": [
    "from typing import Dict,Union,Optional\n",
    "\n",
    "key = Union[int,str] # create custom type\n",
    "value = Union[int,str,list,tuple,set]\n",
    "\n",
    "\n",
    "data : Dict[str,str] = {\n",
    "    'name' : 'Muhammad Hamza',\n",
    "    'fname': 'Shabbir Ahmed',\n",
    "    'id' : 87675,\n",
    "    'education': 'Gen Ai'\n",
    "}\n",
    "\n",
    "print(data)\n",
    "print(data['name'])"
   ]
  },
  {
   "cell_type": "code",
   "execution_count": 7,
   "metadata": {},
   "outputs": [
    {
     "ename": "TypeError",
     "evalue": "unhashable type: 'list'",
     "output_type": "error",
     "traceback": [
      "\u001b[1;31m---------------------------------------------------------------------------\u001b[0m",
      "\u001b[1;31mTypeError\u001b[0m                                 Traceback (most recent call last)",
      "\u001b[1;32mc:\\Users\\HCC\\Desktop\\python\\07_class\\class7.ipynb Cell 5\u001b[0m line \u001b[0;36m7\n\u001b[0;32m      <a href='vscode-notebook-cell:/c%3A/Users/HCC/Desktop/python/07_class/class7.ipynb#W4sZmlsZQ%3D%3D?line=2'>3</a>\u001b[0m key \u001b[39m=\u001b[39m Union[\u001b[39mint\u001b[39m,\u001b[39mstr\u001b[39m] \u001b[39m# create custom type\u001b[39;00m\n\u001b[0;32m      <a href='vscode-notebook-cell:/c%3A/Users/HCC/Desktop/python/07_class/class7.ipynb#W4sZmlsZQ%3D%3D?line=3'>4</a>\u001b[0m value \u001b[39m=\u001b[39m Union[\u001b[39mint\u001b[39m,\u001b[39mstr\u001b[39m,\u001b[39mlist\u001b[39m,\u001b[39mtuple\u001b[39m,\u001b[39mset\u001b[39m]\n\u001b[1;32m----> <a href='vscode-notebook-cell:/c%3A/Users/HCC/Desktop/python/07_class/class7.ipynb#W4sZmlsZQ%3D%3D?line=6'>7</a>\u001b[0m data : Dict[\u001b[39mstr\u001b[39m,\u001b[39mstr\u001b[39m] \u001b[39m=\u001b[39m {\n\u001b[0;32m      <a href='vscode-notebook-cell:/c%3A/Users/HCC/Desktop/python/07_class/class7.ipynb#W4sZmlsZQ%3D%3D?line=7'>8</a>\u001b[0m     \u001b[39m'\u001b[39m\u001b[39mname\u001b[39m\u001b[39m'\u001b[39m : \u001b[39m'\u001b[39m\u001b[39mMuhammad Hamza\u001b[39m\u001b[39m'\u001b[39m,\n\u001b[0;32m      <a href='vscode-notebook-cell:/c%3A/Users/HCC/Desktop/python/07_class/class7.ipynb#W4sZmlsZQ%3D%3D?line=8'>9</a>\u001b[0m     \u001b[39m'\u001b[39m\u001b[39mfname\u001b[39m\u001b[39m'\u001b[39m: \u001b[39m'\u001b[39m\u001b[39mShabbir Ahmed\u001b[39m\u001b[39m'\u001b[39m,\n\u001b[0;32m     <a href='vscode-notebook-cell:/c%3A/Users/HCC/Desktop/python/07_class/class7.ipynb#W4sZmlsZQ%3D%3D?line=9'>10</a>\u001b[0m     \u001b[39m'\u001b[39m\u001b[39mid\u001b[39m\u001b[39m'\u001b[39m : \u001b[39m87675\u001b[39m,\n\u001b[0;32m     <a href='vscode-notebook-cell:/c%3A/Users/HCC/Desktop/python/07_class/class7.ipynb#W4sZmlsZQ%3D%3D?line=10'>11</a>\u001b[0m     \u001b[39m'\u001b[39m\u001b[39meducation\u001b[39m\u001b[39m'\u001b[39m: \u001b[39m'\u001b[39m\u001b[39mGen Ai\u001b[39m\u001b[39m'\u001b[39m,\n\u001b[0;32m     <a href='vscode-notebook-cell:/c%3A/Users/HCC/Desktop/python/07_class/class7.ipynb#W4sZmlsZQ%3D%3D?line=11'>12</a>\u001b[0m     [\u001b[39m123\u001b[39m] : \u001b[39m\"\u001b[39m\u001b[39mPakistan\u001b[39m\u001b[39m\"\u001b[39m, \u001b[39m# error\u001b[39;00m\n\u001b[0;32m     <a href='vscode-notebook-cell:/c%3A/Users/HCC/Desktop/python/07_class/class7.ipynb#W4sZmlsZQ%3D%3D?line=12'>13</a>\u001b[0m    \u001b[39m# (123) : \"Pakistan\", # error\u001b[39;00m\n\u001b[0;32m     <a href='vscode-notebook-cell:/c%3A/Users/HCC/Desktop/python/07_class/class7.ipynb#W4sZmlsZQ%3D%3D?line=13'>14</a>\u001b[0m    \u001b[39m# {123} : \"Pakistan\", # error\u001b[39;00m\n\u001b[0;32m     <a href='vscode-notebook-cell:/c%3A/Users/HCC/Desktop/python/07_class/class7.ipynb#W4sZmlsZQ%3D%3D?line=14'>15</a>\u001b[0m }\n\u001b[0;32m     <a href='vscode-notebook-cell:/c%3A/Users/HCC/Desktop/python/07_class/class7.ipynb#W4sZmlsZQ%3D%3D?line=16'>17</a>\u001b[0m \u001b[39mprint\u001b[39m(data)\n\u001b[0;32m     <a href='vscode-notebook-cell:/c%3A/Users/HCC/Desktop/python/07_class/class7.ipynb#W4sZmlsZQ%3D%3D?line=17'>18</a>\u001b[0m \u001b[39mprint\u001b[39m(data[\u001b[39m'\u001b[39m\u001b[39mname\u001b[39m\u001b[39m'\u001b[39m])\n",
      "\u001b[1;31mTypeError\u001b[0m: unhashable type: 'list'"
     ]
    }
   ],
   "source": [
    "from typing import Dict,Union,Optional\n",
    "\n",
    "key = Union[int,str] # create custom type\n",
    "value = Union[int,str,list,tuple,set]\n",
    "\n",
    "\n",
    "data : Dict[str,str] = {\n",
    "    'name' : 'Muhammad Hamza',\n",
    "    'fname': 'Shabbir Ahmed',\n",
    "    'id' : 87675,\n",
    "    'education': 'Gen Ai',\n",
    "    # [123] : \"Pakistan\", # error\n",
    "   # (123) : \"Pakistan\", # error\n",
    "   # {123} : \"Pakistan\", # error\n",
    "}\n",
    "\n",
    "print(data)\n",
    "print(data['name'])"
   ]
  },
  {
   "cell_type": "code",
   "execution_count": 10,
   "metadata": {},
   "outputs": [
    {
     "name": "stdout",
     "output_type": "stream",
     "text": [
      "{'name': 'Muhammad Hamza', 'fname': 'Shabbir Ahmed', 'id': 87675, 'education': 'Gen Ai', 'abc': [1, 2, 3], 'xyz': (1, 2, 3), 'efg': {1, 2, 3}, 'cde': {'a': 1, 'b': 2}}\n",
      "Muhammad Hamza\n",
      "2\n"
     ]
    }
   ],
   "source": [
    "from typing import Dict,Union,Optional\n",
    "\n",
    "key = Union[int,str] # create custom type\n",
    "value = Union[int,str,list,tuple,set]\n",
    "\n",
    "\n",
    "data : Dict[str,str] = {\n",
    "    'name' : 'Muhammad Hamza',\n",
    "    'fname': 'Shabbir Ahmed',\n",
    "    'id' : 87675,\n",
    "    'education': 'Gen Ai',\n",
    "    'abc' : [1,2,3],\n",
    "    'xyz' : (1,2,3),\n",
    "    'efg' : {1,2,3},\n",
    "    'cde' : {\"a\":1, \"b\":2}\n",
    "}\n",
    "\n",
    "print(data)\n",
    "print(data['name'])\n",
    "print(data['cde']['b'])"
   ]
  },
  {
   "cell_type": "code",
   "execution_count": 13,
   "metadata": {},
   "outputs": [
    {
     "name": "stdout",
     "output_type": "stream",
     "text": [
      "{}\n",
      "{'name': 'Muhammad Hamza', 'fname': 'Shabbir Ahmed', 'education': 'Gen Ai'}\n"
     ]
    }
   ],
   "source": [
    "from typing import Dict,Union,Optional\n",
    "\n",
    "key = Union[int,str] # create custom type\n",
    "value = Union[int,str,list,tuple,set]\n",
    "\n",
    "data : Dict[key,value] = {}\n",
    "\n",
    "print(data)\n",
    "\n",
    "# add new key and values\n",
    "\n",
    "data['name'] = 'Muhammad Hamza'\n",
    "data['fname'] = 'Shabbir Ahmed'\n",
    "data['education'] = 'Gen Ai'\n",
    "\n",
    "print(data)"
   ]
  },
  {
   "cell_type": "code",
   "execution_count": 14,
   "metadata": {},
   "outputs": [
    {
     "name": "stdout",
     "output_type": "stream",
     "text": [
      "{'name': 'Muhammad Hamza', 'fname': 'Shabbir Ahmed', 'id': 87675, 'education': 'Gen Ai'}\n",
      "{'name': 'M.Hamza', 'fname': 'Shabbir Ahmed', 'id': 87675, 'education': 'Gen Ai'}\n"
     ]
    }
   ],
   "source": [
    "from typing import Dict,Union,Optional\n",
    "\n",
    "key = Union[int,str] # create custom type\n",
    "value = Union[int,str,list,tuple,set]\n",
    "\n",
    "\n",
    "data : Dict[str,str] = {\n",
    "    'name' : 'Muhammad Hamza',\n",
    "    'fname': 'Shabbir Ahmed',\n",
    "    'id' : 87675,\n",
    "    'education': 'Gen Ai'\n",
    "}\n",
    "\n",
    "print(data)\n",
    "\n",
    "# update\n",
    "data['name'] = \"M.Hamza\"\n",
    "print(data)"
   ]
  },
  {
   "cell_type": "code",
   "execution_count": 17,
   "metadata": {},
   "outputs": [
    {
     "name": "stdout",
     "output_type": "stream",
     "text": [
      "NA\n",
      "Muhammad Hamza\n"
     ]
    },
    {
     "data": {
      "text/plain": [
       "['clear',\n",
       " 'copy',\n",
       " 'fromkeys',\n",
       " 'get',\n",
       " 'items',\n",
       " 'keys',\n",
       " 'pop',\n",
       " 'popitem',\n",
       " 'setdefault',\n",
       " 'update',\n",
       " 'values']"
      ]
     },
     "execution_count": 17,
     "metadata": {},
     "output_type": "execute_result"
    }
   ],
   "source": [
    "from typing import Dict,Union,Optional\n",
    "\n",
    "key = Union[int,str] # create custom type\n",
    "value = Union[int,str,list,tuple,set]\n",
    "\n",
    "\n",
    "data : Dict[str,str] = {\n",
    "    'name' : 'Muhammad Hamza',\n",
    "    'fname': 'Shabbir Ahmed',\n",
    "    'id' : 87675,\n",
    "    'education': 'Gen Ai'\n",
    "}\n",
    "\n",
    "# print(data)\n",
    "\n",
    "#                 key\n",
    "print(data.get('Pakistan', 'NA'))\n",
    "print(data.get('name', 'NA'))\n",
    "\n",
    "[i for i in dir(data) if \"__\" not in i]\n",
    "\n"
   ]
  },
  {
   "cell_type": "code",
   "execution_count": 18,
   "metadata": {},
   "outputs": [
    {
     "name": "stdout",
     "output_type": "stream",
     "text": [
      "name\n",
      "fname\n",
      "id\n",
      "education\n"
     ]
    }
   ],
   "source": [
    "from typing import Dict,Union,Optional\n",
    "\n",
    "key = Union[int,str] # create custom type\n",
    "value = Union[int,str,list,tuple,set]\n",
    "\n",
    "\n",
    "data : Dict[str,str] = {\n",
    "    'name' : 'Muhammad Hamza',\n",
    "    'fname': 'Shabbir Ahmed',\n",
    "    'id' : 87675,\n",
    "    'education': 'Gen Ai'\n",
    "}\n",
    "\n",
    "for d in data:\n",
    "    print(d) # keys"
   ]
  },
  {
   "cell_type": "code",
   "execution_count": 21,
   "metadata": {},
   "outputs": [
    {
     "name": "stdout",
     "output_type": "stream",
     "text": [
      "dict_keys(['name', 'fname', 'id', 'education'])\n",
      "dict_values(['Muhammad Hamza', 'Shabbir Ahmed', 87675, 'Gen Ai'])\n",
      "dict_items([('name', 'Muhammad Hamza'), ('fname', 'Shabbir Ahmed'), ('id', 87675), ('education', 'Gen Ai')])\n",
      "name Muhammad Hamza\n",
      "fname Shabbir Ahmed\n",
      "id 87675\n",
      "education Gen Ai\n"
     ]
    }
   ],
   "source": [
    "from typing import Dict,Union,Optional\n",
    "\n",
    "key = Union[int,str] # create custom type\n",
    "value = Union[int,str,list,tuple,set]\n",
    "\n",
    "\n",
    "data : Dict[str,str] = {\n",
    "    'name' : 'Muhammad Hamza',\n",
    "    'fname': 'Shabbir Ahmed',\n",
    "    'id' : 87675,\n",
    "    'education': 'Gen Ai'\n",
    "}\n",
    "\n",
    "print(data.keys()) # keys\n",
    "print(data.values()) # values\n",
    "print(data.items()) #key and values\n",
    "\n",
    "for k in data.keys():\n",
    "    print(k, data[k])\n"
   ]
  },
  {
   "cell_type": "code",
   "execution_count": 22,
   "metadata": {},
   "outputs": [
    {
     "name": "stdout",
     "output_type": "stream",
     "text": [
      "dict_keys(['name', 'fname', 'id', 'education'])\n",
      "dict_values(['Muhammad Hamza', 'Shabbir Ahmed', 87675, 'Gen Ai'])\n",
      "dict_items([('name', 'Muhammad Hamza'), ('fname', 'Shabbir Ahmed'), ('id', 87675), ('education', 'Gen Ai')])\n",
      "name\n",
      "fname\n",
      "id\n",
      "education\n"
     ]
    }
   ],
   "source": [
    "from typing import Dict,Union,Optional\n",
    "\n",
    "key = Union[int,str] # create custom type\n",
    "value = Union[int,str,list,tuple,set]\n",
    "\n",
    "\n",
    "data : Dict[str,str] = {\n",
    "    'name' : 'Muhammad Hamza',\n",
    "    'fname': 'Shabbir Ahmed',\n",
    "    'id' : 87675,\n",
    "    'education': 'Gen Ai'\n",
    "}\n",
    "\n",
    "print(data.keys()) # keys\n",
    "print(data.values()) # values\n",
    "print(data.items()) #key and values\n",
    "\n",
    "for k in data.keys():\n",
    "    print(k)\n"
   ]
  },
  {
   "cell_type": "code",
   "execution_count": 23,
   "metadata": {},
   "outputs": [
    {
     "name": "stdout",
     "output_type": "stream",
     "text": [
      "dict_keys(['name', 'fname', 'id', 'education'])\n",
      "dict_values(['Muhammad Hamza', 'Shabbir Ahmed', 87675, 'Gen Ai'])\n",
      "dict_items([('name', 'Muhammad Hamza'), ('fname', 'Shabbir Ahmed'), ('id', 87675), ('education', 'Gen Ai')])\n",
      "Muhammad Hamza\n",
      "Shabbir Ahmed\n",
      "87675\n",
      "Gen Ai\n"
     ]
    }
   ],
   "source": [
    "from typing import Dict,Union,Optional\n",
    "\n",
    "key = Union[int,str] # create custom type\n",
    "value = Union[int,str,list,tuple,set]\n",
    "\n",
    "\n",
    "data : Dict[str,str] = {\n",
    "    'name' : 'Muhammad Hamza',\n",
    "    'fname': 'Shabbir Ahmed',\n",
    "    'id' : 87675,\n",
    "    'education': 'Gen Ai'\n",
    "}\n",
    "\n",
    "print(data.keys()) # keys\n",
    "print(data.values()) # values\n",
    "print(data.items()) #key and values\n",
    "\n",
    "for v in data.values():\n",
    "    print(v)\n"
   ]
  },
  {
   "cell_type": "code",
   "execution_count": 24,
   "metadata": {},
   "outputs": [
    {
     "name": "stdout",
     "output_type": "stream",
     "text": [
      "dict_keys(['name', 'fname', 'id', 'education'])\n",
      "dict_values(['Muhammad Hamza', 'Shabbir Ahmed', 87675, 'Gen Ai'])\n",
      "dict_items([('name', 'Muhammad Hamza'), ('fname', 'Shabbir Ahmed'), ('id', 87675), ('education', 'Gen Ai')])\n",
      "name Muhammad Hamza\n",
      "fname Shabbir Ahmed\n",
      "id 87675\n",
      "education Gen Ai\n"
     ]
    }
   ],
   "source": [
    "from typing import Dict,Union,Optional\n",
    "\n",
    "key = Union[int,str] # create custom type\n",
    "value = Union[int,str,list,tuple,set]\n",
    "\n",
    "\n",
    "data : Dict[str,str] = {\n",
    "    'name' : 'Muhammad Hamza',\n",
    "    'fname': 'Shabbir Ahmed',\n",
    "    'id' : 87675,\n",
    "    'education': 'Gen Ai'\n",
    "}\n",
    "\n",
    "print(data.keys()) # keys\n",
    "print(data.values()) # values\n",
    "print(data.items()) #key and values\n",
    "\n",
    "for k,v in data.items():\n",
    "    print(k,v)\n"
   ]
  },
  {
   "cell_type": "code",
   "execution_count": 25,
   "metadata": {},
   "outputs": [
    {
     "data": {
      "text/plain": [
       "{'name': 'Muhammad Hamza',\n",
       " 'fname': 'Shabbir Ahmed',\n",
       " 'id': 87675,\n",
       " 'education': 'Gen Ai'}"
      ]
     },
     "execution_count": 25,
     "metadata": {},
     "output_type": "execute_result"
    }
   ],
   "source": [
    "{k:v for k,v in data.items()}"
   ]
  },
  {
   "cell_type": "code",
   "execution_count": 26,
   "metadata": {},
   "outputs": [
    {
     "name": "stdout",
     "output_type": "stream",
     "text": [
      "{}\n",
      "{'name': None, 'fname': None, 'id': None, 'course': None}\n"
     ]
    }
   ],
   "source": [
    "keys : list[str] = ['name','fname', 'id', 'course']\n",
    "\n",
    "data : Dict[key,value] = {}\n",
    "\n",
    "print(data)\n",
    "\n",
    "data = data.fromkeys(keys) # inline\n",
    "print(data)"
   ]
  },
  {
   "cell_type": "code",
   "execution_count": 1,
   "metadata": {},
   "outputs": [
    {
     "name": "stdout",
     "output_type": "stream",
     "text": [
      "['clear', 'copy', 'fromkeys', 'get', 'items', 'keys', 'pop', 'popitem', 'setdefault', 'update', 'values']\n"
     ]
    }
   ],
   "source": [
    "from typing import Dict,Union,Optional\n",
    "\n",
    "key = Union[int,str] # create custom type\n",
    "value = Union[int,str,list,tuple,set]\n",
    "\n",
    "\n",
    "data : Dict[str,str] = {\n",
    "    'name' : 'Muhammad Hamza',\n",
    "    'fname': 'Shabbir Ahmed',\n",
    "    'id' : 87675,\n",
    "    'education': 'Gen Ai'\n",
    "}\n",
    "\n",
    "methods: list[str] = [m for m in dir(data) if \"__\" not in m]\n",
    "print(methods)"
   ]
  },
  {
   "cell_type": "code",
   "execution_count": 5,
   "metadata": {},
   "outputs": [
    {
     "name": "stdout",
     "output_type": "stream",
     "text": [
      "Before {'name': 'Muhammad Hamza', 'fname': 'Shabbir Ahmed', 'id': 87675, 'education': 'Gen Ai'}\n",
      "NA\n",
      "After {'name': 'Muhammad Hamza', 'fname': 'Shabbir Ahmed', 'id': 87675, 'education': 'Gen Ai'}\n"
     ]
    }
   ],
   "source": [
    "from typing import Dict,Union,Optional\n",
    "\n",
    "key = Union[int,str] # create custom type\n",
    "value = Union[int,str,list,tuple,set]\n",
    "\n",
    "\n",
    "data : Dict[str,str] = {\n",
    "    'name' : 'Muhammad Hamza',\n",
    "    'fname': 'Shabbir Ahmed',\n",
    "    'id' : 87675,\n",
    "    'education': 'Gen Ai'\n",
    "}\n",
    "\n",
    "\n",
    "print(\"Before\", data)\n",
    "\n",
    "a: str = data.get(\"Pakistan\", \"NA\")\n",
    "print(a)\n",
    "\n",
    "print(\"After\", data)"
   ]
  },
  {
   "cell_type": "code",
   "execution_count": 6,
   "metadata": {},
   "outputs": [
    {
     "name": "stdout",
     "output_type": "stream",
     "text": [
      "Before {'name': 'Muhammad Hamza', 'fname': 'Shabbir Ahmed', 'education': 'Gen Ai'}\n",
      "NA\n",
      "After {'name': 'Muhammad Hamza', 'fname': 'Shabbir Ahmed', 'education': 'Gen Ai', 'Pakistan': 'NA'}\n"
     ]
    }
   ],
   "source": [
    "data : Dict[str,str] = {\n",
    "    'name' : 'Muhammad Hamza',\n",
    "    'fname': 'Shabbir Ahmed',\n",
    "    'education': 'Gen Ai'\n",
    "}\n",
    "\n",
    "\n",
    "print(\"Before\", data)\n",
    "\n",
    "a: str = data.setdefault(\"Pakistan\", \"NA\")\n",
    "print(a)\n",
    "\n",
    "print(\"After\", data)"
   ]
  },
  {
   "cell_type": "code",
   "execution_count": 7,
   "metadata": {},
   "outputs": [
    {
     "name": "stdout",
     "output_type": "stream",
     "text": [
      "{'name': 'M.Hamza', 'fname': 'Shabbir Ahmed', 'id': 87675, 'education': 'Gen Ai', 'age': 23, 'height': '6 feet'}\n"
     ]
    }
   ],
   "source": [
    "from typing import Dict,Union,Optional\n",
    "\n",
    "key = Union[int,str] # create custom type\n",
    "value = Union[int,str,list,tuple,set]\n",
    "\n",
    "\n",
    "data : Dict[key,value] = {\n",
    "    'name' : 'Muhammad Hamza',\n",
    "    'fname': 'Shabbir Ahmed',\n",
    "    'id' : 87675,\n",
    "    'education': 'Gen Ai'\n",
    "}\n",
    "\n",
    "data1 : Dict[key,value] = {\n",
    "    'name' : 'M.Hamza',\n",
    "    'age' : 23,\n",
    "    'height' : '6 feet'\n",
    "}\n",
    "\n",
    "data.update(data1)\n",
    "print(data)"
   ]
  },
  {
   "cell_type": "code",
   "execution_count": 8,
   "metadata": {},
   "outputs": [
    {
     "name": "stdout",
     "output_type": "stream",
     "text": [
      "   roll no        name education\n",
      "0        1     Sir Zia   Masters\n",
      "1        2   Sir Qasim   Masters\n",
      "2        3  Sir Hamzah   Masters\n"
     ]
    }
   ],
   "source": [
    "import pandas as pd\n",
    "from typing import Any\n",
    "\n",
    "student_data : Dict[str,list[Any]] = {\n",
    "    \"roll no\" : [1, 2, 3],\n",
    "    \"name\" : [\"Sir Zia\", \"Sir Qasim\", \"Sir Hamzah\"],\n",
    "    \"education\" : [\"Masters\", \"Masters\", \"Masters\"]\n",
    "}\n",
    "\n",
    "df : pd.DataFrame = pd.DataFrame(student_data)\n",
    "\n",
    "print(df)"
   ]
  },
  {
   "cell_type": "code",
   "execution_count": 9,
   "metadata": {},
   "outputs": [
    {
     "name": "stdout",
     "output_type": "stream",
     "text": [
      "Hi Jen.\n",
      "Hi Sarah.\n",
      "\tSarah, I see u love C!\n",
      "Hi Edward.\n",
      "Hi Phill.\n",
      "\tPhill, I see u love Python!\n"
     ]
    }
   ],
   "source": [
    "favourite_languages :Dict[str,str] = {\n",
    "    'jen': 'python',\n",
    "    'sarah': 'c',\n",
    "    'edward': 'rust',\n",
    "    'phill': 'python'\n",
    "}\n",
    "\n",
    "friends : Dict[str,str] = {\n",
    "    'sarah': 'c',\n",
    "    'phill': 'python'\n",
    "} \n",
    "\n",
    "for name in favourite_languages.keys():\n",
    "    print(f\"Hi {name.title()}.\")\n",
    "    if name in friends:\n",
    "        languages = favourite_languages[name].title()\n",
    "        print(f\"\\t{name.title()}, I see u love {languages}!\")"
   ]
  }
 ],
 "metadata": {
  "kernelspec": {
   "display_name": "python12",
   "language": "python",
   "name": "python3"
  },
  "language_info": {
   "codemirror_mode": {
    "name": "ipython",
    "version": 3
   },
   "file_extension": ".py",
   "mimetype": "text/x-python",
   "name": "python",
   "nbconvert_exporter": "python",
   "pygments_lexer": "ipython3",
   "version": "3.12.0"
  }
 },
 "nbformat": 4,
 "nbformat_minor": 2
}
