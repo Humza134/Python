{
 "cells": [
  {
   "cell_type": "markdown",
   "metadata": {},
   "source": [
    "# Loop and input from user\n",
    "\n",
    "* While\n",
    "* For\n",
    "* Controls\n",
    "   * break\n",
    "   * coninues\n",
    "   * pass\n",
    "\n",
    "* input with input function\n",
    "* input from console\n",
    "\n",
    "# Loop working on iterative data type \n",
    " * list\n",
    " * dictionary\n",
    " * tupple\n",
    " * string\n"
   ]
  },
  {
   "cell_type": "code",
   "execution_count": 1,
   "metadata": {},
   "outputs": [
    {
     "name": "stdout",
     "output_type": "stream",
     "text": [
      "[1, 2, 3, 4, 5, 6]\n"
     ]
    }
   ],
   "source": [
    "#                 0  1  2  3  4  5\n",
    "l1 : list[int] = [1, 2, 3, 4, 5, 6]\n",
    "\n",
    "print(l1)"
   ]
  },
  {
   "cell_type": "code",
   "execution_count": 2,
   "metadata": {},
   "outputs": [
    {
     "name": "stdout",
     "output_type": "stream",
     "text": [
      "1\n",
      "2\n",
      "3\n",
      "4\n",
      "5\n",
      "6\n"
     ]
    }
   ],
   "source": [
    "#                 0  1  2  3  4  5\n",
    "l1 : list[int] = [1, 2, 3, 4, 5, 6]\n",
    "\n",
    "for n in l1:\n",
    "    print(n)"
   ]
  },
  {
   "cell_type": "code",
   "execution_count": 4,
   "metadata": {},
   "outputs": [
    {
     "name": "stdout",
     "output_type": "stream",
     "text": [
      "Current Number: 1\n",
      "Current Number: 2\n",
      "Current Number: 3\n",
      "Current Number: 4\n",
      "Current Number: 5\n",
      "Current Number: 6\n"
     ]
    }
   ],
   "source": [
    "#                 0  1  2  3  4  5\n",
    "l1 : list[int] = [1, 2, 3, 4, 5, 6]\n",
    "\n",
    "for n in l1:\n",
    "    print(f\"Current Number: {n}\")"
   ]
  },
  {
   "cell_type": "code",
   "execution_count": 1,
   "metadata": {},
   "outputs": [
    {
     "name": "stdout",
     "output_type": "stream",
     "text": [
      "Current Character: P\n",
      "Current Character: a\n",
      "Current Character: k\n",
      "Current Character: i\n",
      "Current Character: s\n",
      "Current Character: t\n",
      "Current Character: a\n",
      "Current Character: n\n"
     ]
    }
   ],
   "source": [
    "l1 : str = 'Pakistan'\n",
    "for c in l1:\n",
    "    print(f\"Current Character: {c}\")"
   ]
  },
  {
   "cell_type": "code",
   "execution_count": 6,
   "metadata": {},
   "outputs": [
    {
     "name": "stdout",
     "output_type": "stream",
     "text": [
      "dictionary key Name and value is Muhammad Hamza\n",
      "dictionary key fname and value is Shabbir Ahmed\n"
     ]
    }
   ],
   "source": [
    "# iteration perform on keys\n",
    "l1 : dict[str,str] = {\n",
    "    \"Name\": \"Muhammad Hamza\",\n",
    "    \"fname\": \"Shabbir Ahmed\"\n",
    "}\n",
    "\n",
    "for k in l1:\n",
    "    print(f\"dictionary key {k} and value is {l1[k]}\")\n"
   ]
  },
  {
   "cell_type": "code",
   "execution_count": 12,
   "metadata": {},
   "outputs": [
    {
     "name": "stdout",
     "output_type": "stream",
     "text": [
      "set items is : 1\n",
      "set items is : 2\n",
      "set items is : 3\n",
      "set items is : 4\n",
      "set items is : 5\n",
      "set items is : 6\n"
     ]
    }
   ],
   "source": [
    "# iteration perform on keys\n",
    "l1 : set[int] = {1,2,3,4,5,6}\n",
    "\n",
    "for k in l1:\n",
    "    print(f\"set items is : {k}\")\n"
   ]
  },
  {
   "cell_type": "code",
   "execution_count": 10,
   "metadata": {},
   "outputs": [
    {
     "name": "stdout",
     "output_type": "stream",
     "text": [
      " value from list of set : 1\n",
      " value from list of set : 2\n",
      " value from list of set : 3\n",
      " value from list of set : 4\n",
      " value from list of set : 5\n",
      " value from list of set : 6\n"
     ]
    }
   ],
   "source": [
    "# iteration perform on keys\n",
    "l1 : list[set[int]] = list({1,2,3,4,5,6})\n",
    "\n",
    "for k in l1:\n",
    "    print(f\" value from list of set : {k}\")\n"
   ]
  },
  {
   "cell_type": "markdown",
   "metadata": {},
   "source": [
    "# input from user\n",
    "* input function\n",
    "    * default type = string\n",
    "* sys.argv (for console input in abc.py file)\n",
    "    * default type = string"
   ]
  },
  {
   "cell_type": "code",
   "execution_count": 11,
   "metadata": {},
   "outputs": [
    {
     "name": "stdout",
     "output_type": "stream",
     "text": [
      "<class 'str'>\n",
      "Welcome dear user Mr/Miss Muhammad Hamza!\n"
     ]
    }
   ],
   "source": [
    "name : str = input(\"What is your name? : \\t\")\n",
    "\n",
    "print(type(name))\n",
    "\n",
    "print(f\"Welcome dear user Mr/Miss {name}!\")"
   ]
  },
  {
   "cell_type": "code",
   "execution_count": 13,
   "metadata": {},
   "outputs": [
    {
     "data": {
      "text/plain": [
       "<zip at 0x24b3e458c40>"
      ]
     },
     "execution_count": 13,
     "metadata": {},
     "output_type": "execute_result"
    }
   ],
   "source": [
    "name : list[str] = ['a', 'b', 'c']\n",
    "fname : list[str] = ['x', 'y', 'z']\n",
    "age : list[int] = [1, 2, 3]\n",
    "\n",
    "zip(name,fname,age)"
   ]
  },
  {
   "cell_type": "code",
   "execution_count": 14,
   "metadata": {},
   "outputs": [
    {
     "data": {
      "text/plain": [
       "[('a', 'x', 1), ('b', 'y', 2), ('c', 'z', 3)]"
      ]
     },
     "execution_count": 14,
     "metadata": {},
     "output_type": "execute_result"
    }
   ],
   "source": [
    "name : list[str] = ['a', 'b', 'c']\n",
    "fname : list[str] = ['x', 'y', 'z']\n",
    "age : list[int] = [1, 2, 3]\n",
    "\n",
    "list(zip(name,fname,age))"
   ]
  },
  {
   "cell_type": "code",
   "execution_count": 15,
   "metadata": {},
   "outputs": [
    {
     "name": "stdout",
     "output_type": "stream",
     "text": [
      "Welcome dear a, s/o x, age is 1!\n",
      "Welcome dear b, s/o y, age is 2!\n",
      "Welcome dear c, s/o z, age is 3!\n"
     ]
    }
   ],
   "source": [
    "names : list[str] = ['a', 'b', 'c']\n",
    "fname : list[str] = ['x', 'y', 'z']\n",
    "age : list[int] = [1, 2, 3]\n",
    "\n",
    "list(zip(names,fname,age))\n",
    "\n",
    "for name, fn, ag in zip(names,fname,age):\n",
    "    print(f\"Welcome dear {name}, s/o {fn}, age is {ag}!\")"
   ]
  },
  {
   "cell_type": "markdown",
   "metadata": {},
   "source": [
    "# While loop\n",
    "```\n",
    "while logic: # True/False\n",
    "    loop_body\n",
    "```\n"
   ]
  },
  {
   "cell_type": "code",
   "execution_count": 17,
   "metadata": {},
   "outputs": [
    {
     "name": "stdout",
     "output_type": "stream",
     "text": [
      "current number is : 0\n",
      "current number is : 1\n",
      "current number is : 2\n",
      "current number is : 3\n",
      "current number is : 4\n",
      "current number is : 5\n",
      "current number is : 6\n",
      "current number is : 7\n",
      "current number is : 8\n",
      "current number is : 9\n"
     ]
    }
   ],
   "source": [
    "flag : bool = True\n",
    "\n",
    "current_number : int = 0\n",
    "\n",
    "while flag:\n",
    "    print(f\"current number is : {current_number}\")\n",
    "    current_number +=1\n",
    "\n",
    "    if current_number == 10: # flag false at some time\n",
    "        break"
   ]
  },
  {
   "cell_type": "code",
   "execution_count": 18,
   "metadata": {},
   "outputs": [
    {
     "name": "stdout",
     "output_type": "stream",
     "text": [
      "current index is: 0, and list value is 100\n",
      "current index is: 1, and list value is 200\n",
      "current index is: 2, and list value is 300\n"
     ]
    }
   ],
   "source": [
    "l1 : list[int] = [100, 200, 300]\n",
    "\n",
    "index : int = 0\n",
    "\n",
    "while index < len (l1):\n",
    "    print(f\"current index is: {index}, and list value is {l1[index]}\")\n",
    "    index +=1"
   ]
  },
  {
   "cell_type": "code",
   "execution_count": 2,
   "metadata": {},
   "outputs": [
    {
     "name": "stdout",
     "output_type": "stream",
     "text": [
      "write quite or exit to stop this program\n",
      "write quite or exit to stop this program\n",
      "write quite or exit to stop this program\n",
      "write quite or exit to stop this program\n",
      "write quite or exit to stop this program\n"
     ]
    },
    {
     "data": {
      "text/plain": [
       "[{'name': 'a', 'education': 'a'},\n",
       " {'name': 'b', 'education': 'b'},\n",
       " {'name': 'c', 'education': 'c'},\n",
       " {'name': 'd', 'education': 'd'}]"
      ]
     },
     "metadata": {},
     "output_type": "display_data"
    }
   ],
   "source": [
    "data : list[str,str] = []\n",
    "\n",
    "flag : bool = True\n",
    "\n",
    "while flag:\n",
    "    print(\"write quite or exit to stop this program\")\n",
    "    name: str = input(\"your good name ? \\t\")\n",
    "    education : str = input(\"your last education ? \\t\")\n",
    "\n",
    "    if name in ['exit','quite','close','stop'] or education in ['exit','quite','close','stop']:\n",
    "        flag = False\n",
    "        break\n",
    "    data.append({\"name\":name,\n",
    "                 \"education\":education})\n",
    "display(data)\n"
   ]
  },
  {
   "cell_type": "markdown",
   "metadata": {},
   "source": [
    "# controls\n",
    " * break\n",
    " * continue\n",
    " * pass"
   ]
  },
  {
   "cell_type": "code",
   "execution_count": 1,
   "metadata": {},
   "outputs": [
    {
     "name": "stdout",
     "output_type": "stream",
     "text": [
      "1\n",
      "2\n",
      "3\n",
      "4\n",
      "5\n"
     ]
    }
   ],
   "source": [
    "for i in range(1,11):\n",
    "    print(i)\n",
    "    if i == 5:\n",
    "        break\n"
   ]
  },
  {
   "cell_type": "code",
   "execution_count": 2,
   "metadata": {},
   "outputs": [
    {
     "name": "stdout",
     "output_type": "stream",
     "text": [
      "2 x 1 = 2\n"
     ]
    }
   ],
   "source": [
    "for i in range(1,11):\n",
    "    print(f\"2 x {i} = {i*2}\")\n",
    "    break"
   ]
  },
  {
   "cell_type": "code",
   "execution_count": 3,
   "metadata": {},
   "outputs": [
    {
     "name": "stdout",
     "output_type": "stream",
     "text": [
      "2 x 1 = 2\n",
      "2 x 2 = 4\n",
      "2 x 3 = 6\n",
      "2 x 4 = 8\n",
      "2 x 5 = 10\n",
      "2 x 6 = 12\n",
      "2 x 7 = 14\n",
      "2 x 8 = 16\n",
      "2 x 9 = 18\n",
      "2 x 10 = 20\n"
     ]
    }
   ],
   "source": [
    "for i in range(1,11):\n",
    "    print(f\"2 x {i} = {i*2}\")\n",
    "    "
   ]
  },
  {
   "cell_type": "code",
   "execution_count": 5,
   "metadata": {},
   "outputs": [
    {
     "name": "stdout",
     "output_type": "stream",
     "text": [
      "1\n",
      "2\n",
      "3\n",
      "4\n",
      "6\n",
      "7\n",
      "8\n",
      "9\n",
      "10\n"
     ]
    }
   ],
   "source": [
    "for i in range(1,11):\n",
    "    if i == 5:\n",
    "      continue # skiping the iteration i is 5\n",
    "    print(i)\n"
   ]
  },
  {
   "cell_type": "code",
   "execution_count": null,
   "metadata": {},
   "outputs": [],
   "source": [
    "for i in range(1, 1,1000):\n",
    "    pass"
   ]
  },
  {
   "cell_type": "code",
   "execution_count": 1,
   "metadata": {},
   "outputs": [
    {
     "ename": "TypeError",
     "evalue": "'>=' not supported between instances of 'str' and 'int'",
     "output_type": "error",
     "traceback": [
      "\u001b[1;31m---------------------------------------------------------------------------\u001b[0m",
      "\u001b[1;31mTypeError\u001b[0m                                 Traceback (most recent call last)",
      "\u001b[1;32mc:\\Users\\HCC\\Desktop\\python\\08_class\\class8.ipynb Cell 24\u001b[0m line \u001b[0;36m2\n\u001b[0;32m      <a href='vscode-notebook-cell:/c%3A/Users/HCC/Desktop/python/08_class/class8.ipynb#X32sZmlsZQ%3D%3D?line=0'>1</a>\u001b[0m age : \u001b[39mstr\u001b[39m \u001b[39m=\u001b[39m \u001b[39minput\u001b[39m(\u001b[39m\"\u001b[39m\u001b[39mHow old are you?\u001b[39m\u001b[39m\"\u001b[39m)\n\u001b[1;32m----> <a href='vscode-notebook-cell:/c%3A/Users/HCC/Desktop/python/08_class/class8.ipynb#X32sZmlsZQ%3D%3D?line=1'>2</a>\u001b[0m age \u001b[39m>\u001b[39;49m\u001b[39m=\u001b[39;49m\u001b[39m18\u001b[39;49m\n",
      "\u001b[1;31mTypeError\u001b[0m: '>=' not supported between instances of 'str' and 'int'"
     ]
    }
   ],
   "source": [
    "age : str = input(\"How old are you?\")\n",
    "age >=18"
   ]
  },
  {
   "cell_type": "code",
   "execution_count": 2,
   "metadata": {},
   "outputs": [
    {
     "data": {
      "text/plain": [
       "True"
      ]
     },
     "execution_count": 2,
     "metadata": {},
     "output_type": "execute_result"
    }
   ],
   "source": [
    "age : int = int(input(\"How old are you?\"))\n",
    "age >=18"
   ]
  },
  {
   "cell_type": "code",
   "execution_count": 3,
   "metadata": {},
   "outputs": [
    {
     "data": {
      "text/plain": [
       "[6, 18]"
      ]
     },
     "execution_count": 3,
     "metadata": {},
     "output_type": "execute_result"
    }
   ],
   "source": [
    "data : list[int] = [1,3,5,6,3,15,18]\n",
    "\n",
    "# extract even numbers from this list\n",
    "\n",
    "[i for i in data if i%2 == 0]\n"
   ]
  },
  {
   "cell_type": "code",
   "execution_count": 4,
   "metadata": {},
   "outputs": [
    {
     "data": {
      "text/plain": [
       "[1, 3, 5, 3, 15]"
      ]
     },
     "execution_count": 4,
     "metadata": {},
     "output_type": "execute_result"
    }
   ],
   "source": [
    "data : list[int] = [1,3,5,6,3,15,18]\n",
    "\n",
    "# extract odd numbers from this list\n",
    "\n",
    "[i for i in data if i%2 !=0]\n"
   ]
  },
  {
   "cell_type": "code",
   "execution_count": 1,
   "metadata": {},
   "outputs": [
    {
     "name": "stdout",
     "output_type": "stream",
     "text": [
      "\n",
      "ab\n",
      "cd\n",
      "quit\n"
     ]
    }
   ],
   "source": [
    "prompt = \"\\n Tell me something, and i will reoeat it back to you:\"\n",
    "prompt+= \"\\n Enter 'quit', to end the program.\"\n",
    "\n",
    "message = ''\n",
    "\n",
    "while message != 'quit':\n",
    "    message = input(prompt)\n",
    "    print(message)"
   ]
  },
  {
   "cell_type": "code",
   "execution_count": 2,
   "metadata": {},
   "outputs": [
    {
     "name": "stdout",
     "output_type": "stream",
     "text": [
      "a\n",
      "b\n",
      "c\n"
     ]
    }
   ],
   "source": [
    "prompt : str = \"\\n Tell me something, and i will reoeat it back to you:\"\n",
    "prompt+= \"\\n Enter 'quit', to end the program.\"\n",
    "\n",
    "active = True\n",
    "\n",
    "while active:\n",
    "    message = input(prompt)\n",
    "    if message == 'quit':\n",
    "        active = False\n",
    "    else:\n",
    "        print(message)"
   ]
  },
  {
   "cell_type": "code",
   "execution_count": null,
   "metadata": {},
   "outputs": [],
   "source": []
  }
 ],
 "metadata": {
  "kernelspec": {
   "display_name": "python12",
   "language": "python",
   "name": "python3"
  },
  "language_info": {
   "codemirror_mode": {
    "name": "ipython",
    "version": 3
   },
   "file_extension": ".py",
   "mimetype": "text/x-python",
   "name": "python",
   "nbconvert_exporter": "python",
   "pygments_lexer": "ipython3",
   "version": "3.12.0"
  }
 },
 "nbformat": 4,
 "nbformat_minor": 2
}
