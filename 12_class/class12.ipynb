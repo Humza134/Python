{
 "cells": [
  {
   "cell_type": "markdown",
   "metadata": {},
   "source": [
    "# OOP (Object Oriented Programming)\n",
    "* Class\n",
    "    * methods\n",
    "        * first argument must be addition varibale (self,this, or anything else)\n",
    "    * attributes\n",
    "        * connect with individual object\n",
    "    * class variables\n",
    "    * constructer\n",
    "        * def ```__int__(self, arg1,arg2)```\n",
    "\n",
    "* class varibale\n",
    "    * this value use for all objects\n",
    "      * `ClassName.class_variable`\n",
    "\n",
    "    ```\n",
    "    class ClassName():\n",
    "        class_varibale1 : type = value\n",
    "    ```\n",
    "\n",
    "## Syntax of class\n",
    "```\n",
    "class ClassName():\n",
    "    pass\n",
    "```"
   ]
  },
  {
   "cell_type": "code",
   "execution_count": 1,
   "metadata": {},
   "outputs": [],
   "source": [
    "class Teacher():\n",
    "    def __init__(self, teacher_id: int, teacher_name: str) -> None: # method constructor\n",
    "        self.name : str = teacher_name # self.attribute = value\n",
    "        self.teacherid: int = teacher_id\n",
    "        self.organization_name = \"PIAIC\"\n",
    "\n",
    "    def speak(self, words:str)->None: # method\n",
    "        print(f\"{self.name} is speaking {words}\")\n",
    "    def teaching(self, subject:str)->None: # method\n",
    "        print(f\"{self.name} is teaching {subject}\")\n",
    "        "
   ]
  },
  {
   "cell_type": "code",
   "execution_count": 2,
   "metadata": {},
   "outputs": [],
   "source": [
    "obj1 : Teacher = Teacher(1,\"Sir Zia Khan\") # initialize object-calling constructor __int__()method\n",
    "# obj 1 object, teacher class instance\n",
    "obj2 : Teacher = Teacher(2,\"Sir Qasim\")\n"
   ]
  },
  {
   "cell_type": "code",
   "execution_count": 3,
   "metadata": {},
   "outputs": [
    {
     "name": "stdout",
     "output_type": "stream",
     "text": [
      "Sir Zia Khan\n",
      "1\n",
      "PIAIC\n",
      "Sir Qasim\n",
      "2\n",
      "PIAIC\n"
     ]
    }
   ],
   "source": [
    "print(obj1.name)\n",
    "print(obj1.teacherid)\n",
    "print(obj1.organization_name)\n",
    "\n",
    "print(obj2.name)\n",
    "print(obj2.teacherid)\n",
    "print(obj2.organization_name)"
   ]
  },
  {
   "cell_type": "code",
   "execution_count": 4,
   "metadata": {},
   "outputs": [
    {
     "name": "stdout",
     "output_type": "stream",
     "text": [
      "Sir Zia Khan is teaching Generative AI\n"
     ]
    }
   ],
   "source": [
    "obj1.teaching(\"Generative AI\")"
   ]
  },
  {
   "cell_type": "code",
   "execution_count": 7,
   "metadata": {},
   "outputs": [
    {
     "name": "stdout",
     "output_type": "stream",
     "text": [
      "Sir Qasim is teaching Generative AI\n"
     ]
    }
   ],
   "source": [
    "obj2.teaching(\"Generative AI\")"
   ]
  },
  {
   "cell_type": "code",
   "execution_count": null,
   "metadata": {},
   "outputs": [],
   "source": []
  },
  {
   "cell_type": "markdown",
   "metadata": {},
   "source": [
    "# Class varibale\n",
    "\n",
    " * this value use for all objects\n",
    "    * `ClassName.class_variable`\n",
    "    * `object_name.class_variable` \n",
    "    ```\n",
    "    class ClassName():\n",
    "        class_varibale1 : type = value"
   ]
  },
  {
   "cell_type": "code",
   "execution_count": 7,
   "metadata": {},
   "outputs": [
    {
     "name": "stdout",
     "output_type": "stream",
     "text": [
      "1 1\n"
     ]
    }
   ],
   "source": [
    "class Teacher():\n",
    "    counter : int = 0 # Class varible1/static varibale\n",
    "    help_line_number : str = \"03492904125\"\n",
    "    def __init__(self, teacher_id: int, teacher_name: str) -> None: # method constructor\n",
    "        self.name : str = teacher_name # self.attribute = value\n",
    "        self.teacherid: int = teacher_id\n",
    "        self.organization_name = \"PIAIC\"\n",
    "        Teacher.counter += 1\n",
    "\n",
    "    def speak(self, words:str)->None: # method\n",
    "        print(f\"{self.name} is speaking {words}\")\n",
    "    def teaching(self, subject:str)->None: # method\n",
    "        print(f\"{self.name} is teaching {subject}\")\n",
    "    def details(self)->None:\n",
    "        information : str = f\"\"\"\n",
    "Teacher name is {self.name}\n",
    "our help line number is {Teacher.help_line_number}\n",
    "            \"\"\"\n",
    "        print(information)\n",
    "\n",
    "obj1 : Teacher = Teacher(1,\"Sir Zia Khan\")\n",
    "\n",
    "print(Teacher.counter, obj1.counter)"
   ]
  },
  {
   "cell_type": "code",
   "execution_count": 14,
   "metadata": {},
   "outputs": [
    {
     "name": "stdout",
     "output_type": "stream",
     "text": [
      "2 2\n"
     ]
    }
   ],
   "source": [
    "obj2 : Teacher = Teacher(2,\"Sir Qasim\")\n",
    "print(Teacher.counter, obj2.counter)\n"
   ]
  },
  {
   "cell_type": "code",
   "execution_count": 8,
   "metadata": {},
   "outputs": [
    {
     "name": "stdout",
     "output_type": "stream",
     "text": [
      "0\n",
      "0\n",
      "0\n",
      "03492904125\n",
      "03492904125\n",
      "03492904125\n"
     ]
    }
   ],
   "source": [
    "print(obj1.counter)\n",
    "print(obj2.counter)\n",
    "print(Teacher.counter)\n",
    "\n",
    "print(obj1.help_line_number)\n",
    "print(obj2.help_line_number)\n",
    "print(Teacher.help_line_number)"
   ]
  },
  {
   "cell_type": "code",
   "execution_count": 12,
   "metadata": {},
   "outputs": [
    {
     "name": "stdout",
     "output_type": "stream",
     "text": [
      "\n",
      "Teacher name is Sir Zia Khan\n",
      "our help line number is 03492904125\n",
      "            \n"
     ]
    }
   ],
   "source": [
    "obj1.details()"
   ]
  },
  {
   "cell_type": "markdown",
   "metadata": {},
   "source": [
    "# Inheritance\n",
    "```\n",
    "class ChildClass(parentClass):\n",
    "    pass\n",
    "```"
   ]
  },
  {
   "cell_type": "code",
   "execution_count": 2,
   "metadata": {},
   "outputs": [
    {
     "name": "stdout",
     "output_type": "stream",
     "text": [
      "Brown\n",
      "Black\n",
      "parent method speak: Pakistan zinda bad!\n",
      "You are looking TV!\n",
      "Brown\n",
      "Black\n",
      "parent method speak: Hello world\n",
      "You are looking Cinema!\n"
     ]
    }
   ],
   "source": [
    "class parent():\n",
    "    def __init__(self) -> None:\n",
    "        self.eye_color : str = \"Brown\"\n",
    "        self.hair_color : str = \"Black\"\n",
    "    def speak(self, wordds : str)->None:\n",
    "        print(f\"parent method speak: {wordds}\")\n",
    "    def watching(self, object_name : str)->None:\n",
    "        print(f\"You are looking {object_name}!\")\n",
    "\n",
    "class Child(parent):\n",
    "    pass\n",
    "\n",
    "obj1 : parent = parent()\n",
    "print(obj1.eye_color)\n",
    "print(obj1.hair_color)\n",
    "obj1.speak(\"Pakistan zinda bad!\")\n",
    "obj1.watching(\"TV\")\n",
    "\n",
    "## Child object\n",
    "\n",
    "obj2 : Child = Child()\n",
    "print(obj2.eye_color)\n",
    "print(obj2.hair_color)\n",
    "obj2.speak(\"Hello world\")\n",
    "obj2.watching(\"Cinema\")\n"
   ]
  },
  {
   "cell_type": "code",
   "execution_count": 3,
   "metadata": {},
   "outputs": [
    {
     "name": "stdout",
     "output_type": "stream",
     "text": [
      "Brown\n",
      "Black\n",
      "parent method speak: Pakistan zinda bad!\n",
      "You are looking TV!\n",
      "Brown\n",
      "Black\n",
      "parent method speak: Hello world\n",
      "You are looking Cinema!\n",
      "I am a teacher of Maths\n"
     ]
    }
   ],
   "source": [
    "class parent():\n",
    "    def __init__(self) -> None:\n",
    "        self.eye_color : str = \"Brown\"\n",
    "        self.hair_color : str = \"Black\"\n",
    "    def speak(self, wordds : str)->None:\n",
    "        print(f\"parent method speak: {wordds}\")\n",
    "    def watching(self, object_name : str)->None:\n",
    "        print(f\"You are looking {object_name}!\")\n",
    "\n",
    "class Child(parent):\n",
    "    def teacing(self, subject : str)->None:\n",
    "        print(f\"I am a teacher of {subject}\")\n",
    "\n",
    "obj1 : parent = parent()\n",
    "print(obj1.eye_color)\n",
    "print(obj1.hair_color)\n",
    "obj1.speak(\"Pakistan zinda bad!\")\n",
    "obj1.watching(\"TV\")\n",
    "\n",
    "## Child object\n",
    "\n",
    "obj2 : Child = Child()\n",
    "print(obj2.eye_color)\n",
    "print(obj2.hair_color)\n",
    "obj2.speak(\"Hello world\")\n",
    "obj2.watching(\"Cinema\")\n",
    "obj2.teacing(\"Maths\")"
   ]
  },
  {
   "cell_type": "code",
   "execution_count": 1,
   "metadata": {},
   "outputs": [
    {
     "name": "stdout",
     "output_type": "stream",
     "text": [
      "Animation Artist\n",
      "Masters\n",
      "['Python']\n",
      "Masters\n"
     ]
    }
   ],
   "source": [
    "class Employee :\n",
    "    def __init__(self) -> None:\n",
    "        self.name : str = \"\"\n",
    "        self.education : str = \"\"\n",
    "        self.department : str = \"\"\n",
    "\n",
    "class Designer(Employee):\n",
    "    def __init__(self, title: str) -> None:\n",
    "        super().__init__()\n",
    "        self.title : str = title\n",
    "\n",
    "class Developer(Employee):\n",
    "    def __init__(self, title : str) -> None:\n",
    "        super().__init__()\n",
    "        self.title : str = title\n",
    "        self.programming_skills : list[str] = [\"Python\"]\n",
    "\n",
    "designer1 : Designer = Designer(\"Animation Artist\")\n",
    "dev1 : Developer = Developer(\"Gen Ai\")\n",
    "\n",
    "print(designer1.title)\n",
    "print(designer1.education)\n",
    "\n",
    "print(dev1.programming_skills)\n",
    "print(dev1.education)\n",
    "\n"
   ]
  },
  {
   "cell_type": "code",
   "execution_count": 7,
   "metadata": {},
   "outputs": [
    {
     "name": "stdout",
     "output_type": "stream",
     "text": [
      "Animation Artist\n",
      "Masters\n",
      "Hamid\n",
      "['Python']\n",
      "Masters\n",
      "Hamza\n"
     ]
    }
   ],
   "source": [
    "class Employee :\n",
    "    def __init__(self, name:str) -> None:\n",
    "        self.name : str = name\n",
    "        self.education : str = \"Masters\"\n",
    "        self.department : str = \"\"\n",
    "\n",
    "class Designer(Employee):\n",
    "    def __init__(self, title: str, name:str) -> None:\n",
    "        super().__init__(name)\n",
    "        self.title : str = title\n",
    "\n",
    "class Developer(Employee):\n",
    "    def __init__(self, title : str, name:str) -> None:\n",
    "        super().__init__(name)\n",
    "        self.title : str = title\n",
    "        self.programming_skills : list[str] = [\"Python\"]\n",
    "\n",
    "designer1 : Designer = Designer(\"Animation Artist\", \"Hamid\")\n",
    "dev1 : Developer = Developer(\"Gen Ai\", \"Hamza\")\n",
    "\n",
    "print(designer1.title)\n",
    "print(designer1.education)\n",
    "print(designer1.name)\n",
    "\n",
    "print(dev1.programming_skills)\n",
    "print(dev1.education)\n",
    "print(dev1.name)\n",
    "\n"
   ]
  }
 ],
 "metadata": {
  "kernelspec": {
   "display_name": "python12",
   "language": "python",
   "name": "python3"
  },
  "language_info": {
   "codemirror_mode": {
    "name": "ipython",
    "version": 3
   },
   "file_extension": ".py",
   "mimetype": "text/x-python",
   "name": "python",
   "nbconvert_exporter": "python",
   "pygments_lexer": "ipython3",
   "version": "3.12.0"
  }
 },
 "nbformat": 4,
 "nbformat_minor": 2
}
