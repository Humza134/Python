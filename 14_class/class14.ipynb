{
 "cells": [
  {
   "cell_type": "code",
   "execution_count": 1,
   "metadata": {},
   "outputs": [
    {
     "data": {
      "text/plain": [
       "type"
      ]
     },
     "execution_count": 1,
     "metadata": {},
     "output_type": "execute_result"
    }
   ],
   "source": [
    "class SampleClass:\n",
    "    def method(self):\n",
    "        print(\"You Called method()!\")\n",
    "\n",
    "type(SampleClass)"
   ]
  },
  {
   "cell_type": "code",
   "execution_count": 2,
   "metadata": {},
   "outputs": [
    {
     "data": {
      "text/plain": [
       "['__abstractmethods__',\n",
       " '__annotations__',\n",
       " '__base__',\n",
       " '__bases__',\n",
       " '__basicsize__',\n",
       " '__call__',\n",
       " '__class__',\n",
       " '__delattr__',\n",
       " '__dict__',\n",
       " '__dictoffset__',\n",
       " '__dir__',\n",
       " '__doc__',\n",
       " '__eq__',\n",
       " '__flags__',\n",
       " '__format__',\n",
       " '__ge__',\n",
       " '__getattribute__',\n",
       " '__getstate__',\n",
       " '__gt__',\n",
       " '__hash__',\n",
       " '__init__',\n",
       " '__init_subclass__',\n",
       " '__instancecheck__',\n",
       " '__itemsize__',\n",
       " '__le__',\n",
       " '__lt__',\n",
       " '__module__',\n",
       " '__mro__',\n",
       " '__name__',\n",
       " '__ne__',\n",
       " '__new__',\n",
       " '__or__',\n",
       " '__prepare__',\n",
       " '__qualname__',\n",
       " '__reduce__',\n",
       " '__reduce_ex__',\n",
       " '__repr__',\n",
       " '__ror__',\n",
       " '__setattr__',\n",
       " '__sizeof__',\n",
       " '__str__',\n",
       " '__subclasscheck__',\n",
       " '__subclasses__',\n",
       " '__subclasshook__',\n",
       " '__text_signature__',\n",
       " '__type_params__',\n",
       " '__weakrefoffset__',\n",
       " 'mro']"
      ]
     },
     "execution_count": 2,
     "metadata": {},
     "output_type": "execute_result"
    }
   ],
   "source": [
    "dir(type)"
   ]
  },
  {
   "cell_type": "code",
   "execution_count": 3,
   "metadata": {},
   "outputs": [
    {
     "data": {
      "text/plain": [
       "['__class__',\n",
       " '__delattr__',\n",
       " '__dict__',\n",
       " '__dir__',\n",
       " '__doc__',\n",
       " '__eq__',\n",
       " '__format__',\n",
       " '__ge__',\n",
       " '__getattribute__',\n",
       " '__getstate__',\n",
       " '__gt__',\n",
       " '__hash__',\n",
       " '__init__',\n",
       " '__init_subclass__',\n",
       " '__le__',\n",
       " '__lt__',\n",
       " '__module__',\n",
       " '__ne__',\n",
       " '__new__',\n",
       " '__reduce__',\n",
       " '__reduce_ex__',\n",
       " '__repr__',\n",
       " '__setattr__',\n",
       " '__sizeof__',\n",
       " '__str__',\n",
       " '__subclasshook__',\n",
       " '__weakref__',\n",
       " 'method']"
      ]
     },
     "execution_count": 3,
     "metadata": {},
     "output_type": "execute_result"
    }
   ],
   "source": [
    "dir(SampleClass)"
   ]
  },
  {
   "cell_type": "markdown",
   "metadata": {},
   "source": [
    "# Encapsolation"
   ]
  },
  {
   "cell_type": "code",
   "execution_count": 10,
   "metadata": {},
   "outputs": [],
   "source": [
    "class StudentLogin():\n",
    "    def __init__(self) -> None:\n",
    "        self.__username : str = \"Admin\"\n",
    "        self.__password : str = \"Admin\"\n",
    "\n",
    "    def __dbconnectivity(self,user : str, password : str):\n",
    "        print(\"successfully connected\")\n",
    "        if user == self.__username and password == self.__password:\n",
    "            return \"Valid User\"\n",
    "        else:\n",
    "            return \"Invaild User\"\n",
    "\n",
    "\n",
    "\n",
    "    def student_login(self, user:str, pass1:str):\n",
    "        message : str = self.__dbconnectivity(user,pass1)\n",
    "        print(message)\n",
    "\n",
    "    def update_password(self,password:str):\n",
    "        self.__password = password\n",
    "\n",
    "    def display_information(self):\n",
    "        print(f\"Hello dear {self.__username} and password {self.__password}\")\n",
    "\n",
    "Hamza : StudentLogin = StudentLogin()"
   ]
  },
  {
   "cell_type": "code",
   "execution_count": 11,
   "metadata": {},
   "outputs": [
    {
     "ename": "AttributeError",
     "evalue": "'StudentLogin' object has no attribute '__password'",
     "output_type": "error",
     "traceback": [
      "\u001b[1;31m---------------------------------------------------------------------------\u001b[0m",
      "\u001b[1;31mAttributeError\u001b[0m                            Traceback (most recent call last)",
      "\u001b[1;32mc:\\Users\\HCC\\Desktop\\python\\14_class\\class14.ipynb Cell 7\u001b[0m line \u001b[0;36m1\n\u001b[1;32m----> <a href='vscode-notebook-cell:/c%3A/Users/HCC/Desktop/python/14_class/class14.ipynb#X10sZmlsZQ%3D%3D?line=0'>1</a>\u001b[0m Hamza\u001b[39m.\u001b[39;49m__password \n",
      "\u001b[1;31mAttributeError\u001b[0m: 'StudentLogin' object has no attribute '__password'"
     ]
    }
   ],
   "source": [
    "Hamza.__password "
   ]
  },
  {
   "cell_type": "code",
   "execution_count": 8,
   "metadata": {},
   "outputs": [
    {
     "name": "stdout",
     "output_type": "stream",
     "text": [
      "Hello dear Admin and password Admin\n"
     ]
    }
   ],
   "source": [
    "Hamza.display_information()"
   ]
  },
  {
   "cell_type": "code",
   "execution_count": 12,
   "metadata": {},
   "outputs": [
    {
     "name": "stdout",
     "output_type": "stream",
     "text": [
      "successfully connected\n",
      "Invaild User\n"
     ]
    }
   ],
   "source": [
    "Hamza.student_login(\"Hamza\", \"Hum123\")"
   ]
  },
  {
   "cell_type": "code",
   "execution_count": 13,
   "metadata": {},
   "outputs": [],
   "source": [
    "Hamza.update_password(\"Hamza980\")"
   ]
  },
  {
   "cell_type": "code",
   "execution_count": 14,
   "metadata": {},
   "outputs": [
    {
     "name": "stdout",
     "output_type": "stream",
     "text": [
      "Hello dear Admin and password Hamza980\n"
     ]
    }
   ],
   "source": [
    "Hamza.display_information()"
   ]
  },
  {
   "cell_type": "markdown",
   "metadata": {},
   "source": [
    "# __str__"
   ]
  },
  {
   "cell_type": "code",
   "execution_count": 3,
   "metadata": {},
   "outputs": [
    {
     "name": "stdout",
     "output_type": "stream",
     "text": [
      "<__main__.Teacher object at 0x0000016470FB7E30>\n"
     ]
    }
   ],
   "source": [
    "class Teacher:\n",
    "    def __init__(self,name) -> None:\n",
    "        self.name : str = name\n",
    "\n",
    "    \n",
    "\n",
    "sir_zia : Teacher = Teacher(\"Sir Zia\")\n",
    "\n",
    "print(sir_zia)"
   ]
  },
  {
   "cell_type": "code",
   "execution_count": 4,
   "metadata": {},
   "outputs": [
    {
     "name": "stdout",
     "output_type": "stream",
     "text": [
      "Teacher name is Sir Zia\n"
     ]
    }
   ],
   "source": [
    "class Teacher:\n",
    "    def __init__(self,name) -> None:\n",
    "        self.name : str = name\n",
    "\n",
    "    def __str__(self) -> str:\n",
    "        return f\"Teacher name is {self.name}\"\n",
    "\n",
    "sir_zia : Teacher = Teacher(\"Sir Zia\")\n",
    "\n",
    "print(sir_zia)"
   ]
  },
  {
   "cell_type": "markdown",
   "metadata": {},
   "source": [
    "# Abstract Class"
   ]
  },
  {
   "cell_type": "code",
   "execution_count": 6,
   "metadata": {},
   "outputs": [
    {
     "ename": "TypeError",
     "evalue": "Can't instantiate abstract class Animal without an implementation for abstract method '__init__'",
     "output_type": "error",
     "traceback": [
      "\u001b[1;31m---------------------------------------------------------------------------\u001b[0m",
      "\u001b[1;31mTypeError\u001b[0m                                 Traceback (most recent call last)",
      "\u001b[1;32mc:\\Users\\HCC\\Desktop\\python\\14_class\\class14.ipynb Cell 15\u001b[0m line \u001b[0;36m9\n\u001b[0;32m      <a href='vscode-notebook-cell:/c%3A/Users/HCC/Desktop/python/14_class/class14.ipynb#X21sZmlsZQ%3D%3D?line=5'>6</a>\u001b[0m         \u001b[39msuper\u001b[39m()\u001b[39m.\u001b[39m\u001b[39m__init__\u001b[39m()\n\u001b[0;32m      <a href='vscode-notebook-cell:/c%3A/Users/HCC/Desktop/python/14_class/class14.ipynb#X21sZmlsZQ%3D%3D?line=6'>7</a>\u001b[0m         \u001b[39mself\u001b[39m\u001b[39m.\u001b[39mLiving_thing : \u001b[39mbool\u001b[39m \u001b[39m=\u001b[39m \u001b[39mTrue\u001b[39;00m\n\u001b[1;32m----> <a href='vscode-notebook-cell:/c%3A/Users/HCC/Desktop/python/14_class/class14.ipynb#X21sZmlsZQ%3D%3D?line=8'>9</a>\u001b[0m Cat : Animal \u001b[39m=\u001b[39m Animal() \n",
      "\u001b[1;31mTypeError\u001b[0m: Can't instantiate abstract class Animal without an implementation for abstract method '__init__'"
     ]
    }
   ],
   "source": [
    "from abc import ABC, abstractmethod\n",
    "\n",
    "class Animal(ABC):\n",
    "    @abstractmethod\n",
    "    def __init__(self) -> None:\n",
    "        super().__init__()\n",
    "        self.Living_thing : bool = True\n",
    "\n",
    "Cat : Animal = Animal() "
   ]
  },
  {
   "cell_type": "code",
   "execution_count": 8,
   "metadata": {},
   "outputs": [
    {
     "ename": "TypeError",
     "evalue": "Can't instantiate abstract class Cat without an implementation for abstract method 'eat'",
     "output_type": "error",
     "traceback": [
      "\u001b[1;31m---------------------------------------------------------------------------\u001b[0m",
      "\u001b[1;31mTypeError\u001b[0m                                 Traceback (most recent call last)",
      "\u001b[1;32mc:\\Users\\HCC\\Desktop\\python\\14_class\\class14.ipynb Cell 16\u001b[0m line \u001b[0;36m1\n\u001b[0;32m     <a href='vscode-notebook-cell:/c%3A/Users/HCC/Desktop/python/14_class/class14.ipynb#X23sZmlsZQ%3D%3D?line=13'>14</a>\u001b[0m     \u001b[39mdef\u001b[39;00m \u001b[39m__init__\u001b[39m(\u001b[39mself\u001b[39m) \u001b[39m-\u001b[39m\u001b[39m>\u001b[39m \u001b[39mNone\u001b[39;00m:\n\u001b[0;32m     <a href='vscode-notebook-cell:/c%3A/Users/HCC/Desktop/python/14_class/class14.ipynb#X23sZmlsZQ%3D%3D?line=14'>15</a>\u001b[0m         \u001b[39msuper\u001b[39m()\u001b[39m.\u001b[39m\u001b[39m__init__\u001b[39m()\n\u001b[1;32m---> <a href='vscode-notebook-cell:/c%3A/Users/HCC/Desktop/python/14_class/class14.ipynb#X23sZmlsZQ%3D%3D?line=16'>17</a>\u001b[0m Tom : Cat \u001b[39m=\u001b[39m Cat() \n\u001b[0;32m     <a href='vscode-notebook-cell:/c%3A/Users/HCC/Desktop/python/14_class/class14.ipynb#X23sZmlsZQ%3D%3D?line=18'>19</a>\u001b[0m \u001b[39mprint\u001b[39m(Tom\u001b[39m.\u001b[39mLiving_thing)\n",
      "\u001b[1;31mTypeError\u001b[0m: Can't instantiate abstract class Cat without an implementation for abstract method 'eat'"
     ]
    }
   ],
   "source": [
    "from abc import ABC, abstractmethod\n",
    "\n",
    "class Animal(ABC):\n",
    "    @abstractmethod\n",
    "    def __init__(self) -> None:\n",
    "        super().__init__()\n",
    "        self.Living_thing : bool = True\n",
    "    @abstractmethod\n",
    "    def eat(self, food:str):\n",
    "        ...\n",
    "\n",
    "\n",
    "class Cat(Animal):\n",
    "    def __init__(self) -> None:\n",
    "        super().__init__()\n",
    "\n",
    "Tom : Cat = Cat() \n",
    "\n",
    "print(Tom.Living_thing)"
   ]
  },
  {
   "cell_type": "code",
   "execution_count": 9,
   "metadata": {},
   "outputs": [
    {
     "name": "stdout",
     "output_type": "stream",
     "text": [
      "True\n"
     ]
    }
   ],
   "source": [
    "from abc import ABC, abstractmethod\n",
    "\n",
    "class Animal(ABC):\n",
    "    @abstractmethod\n",
    "    def __init__(self) -> None:\n",
    "        super().__init__()\n",
    "        self.Living_thing : bool = True\n",
    "    @abstractmethod\n",
    "    def eat(self, food:str):\n",
    "        ...\n",
    "\n",
    "\n",
    "class Cat(Animal):\n",
    "    def __init__(self) -> None:\n",
    "        super().__init__()\n",
    "\n",
    "    def eat(self, food:str):\n",
    "        return f\"Tom is eating {food}\"\n",
    "\n",
    "Tom : Cat = Cat() \n",
    "\n",
    "print(Tom.Living_thing)\n",
    "\n"
   ]
  },
  {
   "cell_type": "code",
   "execution_count": 10,
   "metadata": {},
   "outputs": [
    {
     "name": "stdout",
     "output_type": "stream",
     "text": [
      "Tom is eating Mouse\n"
     ]
    }
   ],
   "source": [
    "print(Tom.eat(\"Mouse\"))"
   ]
  }
 ],
 "metadata": {
  "kernelspec": {
   "display_name": "python12",
   "language": "python",
   "name": "python3"
  },
  "language_info": {
   "codemirror_mode": {
    "name": "ipython",
    "version": 3
   },
   "file_extension": ".py",
   "mimetype": "text/x-python",
   "name": "python",
   "nbconvert_exporter": "python",
   "pygments_lexer": "ipython3",
   "version": "3.12.0"
  }
 },
 "nbformat": 4,
 "nbformat_minor": 2
}
