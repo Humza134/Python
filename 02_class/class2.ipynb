{
 "cells": [
  {
   "cell_type": "markdown",
   "metadata": {},
   "source": [
    "# String data type in python"
   ]
  },
  {
   "cell_type": "code",
   "execution_count": 3,
   "metadata": {},
   "outputs": [
    {
     "name": "stdout",
     "output_type": "stream",
     "text": [
      "PIAIC Student Card \n",
      " Father's Name\n"
     ]
    }
   ],
   "source": [
    "message : str = \"PIAIC Student Card \\n Father's Name\"\n",
    "print(message)"
   ]
  },
  {
   "cell_type": "code",
   "execution_count": 4,
   "metadata": {},
   "outputs": [
    {
     "name": "stdout",
     "output_type": "stream",
     "text": [
      "PIAIC Student Card \n",
      " Father's Name\n"
     ]
    }
   ],
   "source": [
    "# convert any specail character into simple character, place \\ before character\n",
    "message : str = 'PIAIC Student Card \\n Father\\'s Name'\n",
    "print(message)\n"
   ]
  },
  {
   "cell_type": "code",
   "execution_count": 5,
   "metadata": {},
   "outputs": [
    {
     "data": {
      "text/plain": [
       "'abc'"
      ]
     },
     "execution_count": 5,
     "metadata": {},
     "output_type": "execute_result"
    }
   ],
   "source": [
    "\"a\" + \"b\" + \"c\""
   ]
  },
  {
   "cell_type": "code",
   "execution_count": 13,
   "metadata": {},
   "outputs": [
    {
     "name": "stdout",
     "output_type": "stream",
     "text": [
      "PIAIC Student Card\n",
      "Student Name: Muhammad Hamza\n",
      "Age: 23\n",
      "Education: Master in data science\n"
     ]
    }
   ],
   "source": [
    "# boundries\n",
    "# 'string', \"string\", '''string''', \"\"\"string\"\"\"\n",
    "# `` not working in pyton\n",
    "\n",
    "name : str = \"Muhammad Hamza\"\n",
    "fname : str = \"Shabbir Ahmed\"\n",
    "education : str = \"Master in data science\"\n",
    "age : int = 23\n",
    "\n",
    "card : str = \"PIAIC Student Card\\nStudent Name: \" + name + \"\\nAge: \" + str(age) + \"\\nEducation: \" + education\n",
    "\n",
    "print(card)"
   ]
  },
  {
   "cell_type": "code",
   "execution_count": 11,
   "metadata": {},
   "outputs": [
    {
     "name": "stdout",
     "output_type": "stream",
     "text": [
      "PIAIC Student Card\n",
      "Student Name: Muhammad Hamza\n",
      "Age: 23\n",
      "Education: Master in data science\n"
     ]
    }
   ],
   "source": [
    "name : str = \"Muhammad Hamza\"\n",
    "fname : str = \"Shabbir Ahmed\"\n",
    "education : str = \"Master in data science\"\n",
    "age : int = 23\n",
    "\n",
    "card : str = \"PIAIC Student Card\\nStudent Name: \" + name +\\\n",
    "      \"\\nAge: \" + str(age) + \"\\n\" +\\\n",
    "      \"Education: \" + education\n",
    "\n",
    "print(card)"
   ]
  },
  {
   "cell_type": "markdown",
   "metadata": {},
   "source": [
    "## Define multiline string \"\"\" \"\"\" , ''' '''"
   ]
  },
  {
   "cell_type": "code",
   "execution_count": 17,
   "metadata": {},
   "outputs": [
    {
     "name": "stdout",
     "output_type": "stream",
     "text": [
      " \n",
      "PIAIC Student Card\n",
      "Student Name: ...\n",
      "Father's Name: ...\n",
      "Education: ...\n",
      "Age: ...\n",
      "\n",
      "\n"
     ]
    }
   ],
   "source": [
    "name : str = \"Muhammad Hamza\"\n",
    "fname : str = \"Shabbir Ahmed\"\n",
    "education : str = \"Master in data science\"\n",
    "age : int = 23\n",
    "\n",
    "card : str = \"\"\" \n",
    "PIAIC Student Card\n",
    "Student Name: ...\n",
    "Father's Name: ...\n",
    "Education: ...\n",
    "Age: ...\n",
    "\n",
    "\"\"\"\n",
    "\n",
    "print(card)"
   ]
  },
  {
   "cell_type": "markdown",
   "metadata": {},
   "source": [
    "# F-string python"
   ]
  },
  {
   "cell_type": "code",
   "execution_count": 18,
   "metadata": {},
   "outputs": [
    {
     "name": "stdout",
     "output_type": "stream",
     "text": [
      " \n",
      "PIAIC Student Card\n",
      "Student Name: Muhammad Hamza\n",
      "Father's Name: Shabbir Ahmed\n",
      "Education: Master in data science\n",
      "Age: 23\n",
      "\n",
      "\n"
     ]
    }
   ],
   "source": [
    "name : str = \"Muhammad Hamza\"\n",
    "fname : str = \"Shabbir Ahmed\"\n",
    "education : str = \"Master in data science\"\n",
    "age : int = 23\n",
    "\n",
    "card : str = f\"\"\" \n",
    "PIAIC Student Card\n",
    "Student Name: {name}\n",
    "Father's Name: {fname}\n",
    "Education: {education}\n",
    "Age: {age}\n",
    "\n",
    "\"\"\"\n",
    "\n",
    "print(card)"
   ]
  },
  {
   "cell_type": "code",
   "execution_count": 19,
   "metadata": {},
   "outputs": [
    {
     "name": "stdout",
     "output_type": "stream",
     "text": [
      " \n",
      "PIAIC Student Card\n",
      "Student Name: Muhammad Hamza\n",
      "Father's Name: Shabbir Ahmed\n",
      "Education: Master in data science\n",
      "Age: 23\n",
      "\n",
      "Total: 17\n",
      "\n",
      "\n"
     ]
    }
   ],
   "source": [
    "name : str = \"Muhammad Hamza\"\n",
    "fname : str = \"Shabbir Ahmed\"\n",
    "education : str = \"Master in data science\"\n",
    "age : int = 23\n",
    "\n",
    "card : str = f\"\"\" \n",
    "PIAIC Student Card\n",
    "Student Name: {name}\n",
    "Father's Name: {fname}\n",
    "Education: {education}\n",
    "Age: {age}\n",
    "\n",
    "Total: {6 + 9 + 2}\n",
    "\n",
    "\"\"\"\n",
    "\n",
    "print(card)"
   ]
  },
  {
   "cell_type": "markdown",
   "metadata": {},
   "source": [
    "# F-string and jinja style"
   ]
  },
  {
   "cell_type": "code",
   "execution_count": 21,
   "metadata": {},
   "outputs": [
    {
     "data": {
      "text/plain": [
       "'\\nstudent name Muhammad Hamza\\n'"
      ]
     },
     "execution_count": 21,
     "metadata": {},
     "output_type": "execute_result"
    }
   ],
   "source": [
    "f\"\"\"\n",
    "student name {name}\n",
    "\"\"\""
   ]
  },
  {
   "cell_type": "code",
   "execution_count": 22,
   "metadata": {},
   "outputs": [
    {
     "data": {
      "text/plain": [
       "'\\nstudent name {{name}}\\n\\n'"
      ]
     },
     "execution_count": 22,
     "metadata": {},
     "output_type": "execute_result"
    }
   ],
   "source": [
    "#jinja style\n",
    "\"\"\"\n",
    "student name {{name}}\n",
    "\n",
    "\"\"\""
   ]
  },
  {
   "cell_type": "code",
   "execution_count": 5,
   "metadata": {},
   "outputs": [
    {
     "ename": "TypeError",
     "evalue": "not enough arguments for format string",
     "output_type": "error",
     "traceback": [
      "\u001b[1;31m---------------------------------------------------------------------------\u001b[0m",
      "\u001b[1;31mTypeError\u001b[0m                                 Traceback (most recent call last)",
      "\u001b[1;32mc:\\Users\\HCC\\Desktop\\python\\02_class\\class2.ipynb Cell 15\u001b[0m line \u001b[0;36m6\n\u001b[0;32m      <a href='vscode-notebook-cell:/c%3A/Users/HCC/Desktop/python/02_class/class2.ipynb#X20sZmlsZQ%3D%3D?line=2'>3</a>\u001b[0m education : \u001b[39mstr\u001b[39m \u001b[39m=\u001b[39m \u001b[39m\"\u001b[39m\u001b[39mMaster in data science\u001b[39m\u001b[39m\"\u001b[39m\n\u001b[0;32m      <a href='vscode-notebook-cell:/c%3A/Users/HCC/Desktop/python/02_class/class2.ipynb#X20sZmlsZQ%3D%3D?line=3'>4</a>\u001b[0m age : \u001b[39mint\u001b[39m \u001b[39m=\u001b[39m \u001b[39m23\u001b[39m\n\u001b[1;32m----> <a href='vscode-notebook-cell:/c%3A/Users/HCC/Desktop/python/02_class/class2.ipynb#X20sZmlsZQ%3D%3D?line=5'>6</a>\u001b[0m card : \u001b[39mstr\u001b[39m \u001b[39m=\u001b[39m \u001b[39mf\u001b[39;49m\u001b[39m\"\"\"\u001b[39;49m\u001b[39m \u001b[39;49m\n\u001b[0;32m      <a href='vscode-notebook-cell:/c%3A/Users/HCC/Desktop/python/02_class/class2.ipynb#X20sZmlsZQ%3D%3D?line=6'>7</a>\u001b[0m \u001b[39mPIAIC Student Card\u001b[39;49m\n\u001b[0;32m      <a href='vscode-notebook-cell:/c%3A/Users/HCC/Desktop/python/02_class/class2.ipynb#X20sZmlsZQ%3D%3D?line=7'>8</a>\u001b[0m \u001b[39mStudent Name: %s\u001b[39;49m\n\u001b[0;32m      <a href='vscode-notebook-cell:/c%3A/Users/HCC/Desktop/python/02_class/class2.ipynb#X20sZmlsZQ%3D%3D?line=8'>9</a>\u001b[0m \u001b[39mFather\u001b[39;49m\u001b[39m'\u001b[39;49m\u001b[39ms Name: %s\u001b[39;49m\n\u001b[0;32m     <a href='vscode-notebook-cell:/c%3A/Users/HCC/Desktop/python/02_class/class2.ipynb#X20sZmlsZQ%3D%3D?line=9'>10</a>\u001b[0m \u001b[39mEducation: %s\u001b[39;49m\n\u001b[0;32m     <a href='vscode-notebook-cell:/c%3A/Users/HCC/Desktop/python/02_class/class2.ipynb#X20sZmlsZQ%3D%3D?line=10'>11</a>\u001b[0m \u001b[39mAge: %d\u001b[39;49m\n\u001b[0;32m     <a href='vscode-notebook-cell:/c%3A/Users/HCC/Desktop/python/02_class/class2.ipynb#X20sZmlsZQ%3D%3D?line=11'>12</a>\u001b[0m \n\u001b[0;32m     <a href='vscode-notebook-cell:/c%3A/Users/HCC/Desktop/python/02_class/class2.ipynb#X20sZmlsZQ%3D%3D?line=12'>13</a>\u001b[0m \u001b[39m\"\"\"\u001b[39;49m \u001b[39m%\u001b[39;49m {name, fname, education, age}\n\u001b[0;32m     <a href='vscode-notebook-cell:/c%3A/Users/HCC/Desktop/python/02_class/class2.ipynb#X20sZmlsZQ%3D%3D?line=14'>15</a>\u001b[0m \u001b[39mprint\u001b[39m(card)\n",
      "\u001b[1;31mTypeError\u001b[0m: not enough arguments for format string"
     ]
    }
   ],
   "source": [
    "name : str = \"Muhammad Hamza\"\n",
    "fname : str = \"Shabbir Ahmed\"\n",
    "education : str = \"Master in data science\"\n",
    "age : int = 23\n",
    "\n",
    "card : str = f\"\"\" \n",
    "PIAIC Student Card\n",
    "Student Name: %s\n",
    "Father's Name: %s\n",
    "Education: %s\n",
    "Age: %d\n",
    "\n",
    "\"\"\" % {name, fname, education, age}\n",
    "\n",
    "print(card)"
   ]
  },
  {
   "cell_type": "code",
   "execution_count": 6,
   "metadata": {},
   "outputs": [
    {
     "data": {
      "text/plain": [
       "['capitalize',\n",
       " 'casefold',\n",
       " 'center',\n",
       " 'count',\n",
       " 'encode',\n",
       " 'endswith',\n",
       " 'expandtabs',\n",
       " 'find',\n",
       " 'format',\n",
       " 'format_map',\n",
       " 'index',\n",
       " 'isalnum',\n",
       " 'isalpha',\n",
       " 'isascii',\n",
       " 'isdecimal',\n",
       " 'isdigit',\n",
       " 'isidentifier',\n",
       " 'islower',\n",
       " 'isnumeric',\n",
       " 'isprintable',\n",
       " 'isspace',\n",
       " 'istitle',\n",
       " 'isupper',\n",
       " 'join',\n",
       " 'ljust',\n",
       " 'lower',\n",
       " 'lstrip',\n",
       " 'maketrans',\n",
       " 'partition',\n",
       " 'removeprefix',\n",
       " 'removesuffix',\n",
       " 'replace',\n",
       " 'rfind',\n",
       " 'rindex',\n",
       " 'rjust',\n",
       " 'rpartition',\n",
       " 'rsplit',\n",
       " 'rstrip',\n",
       " 'split',\n",
       " 'splitlines',\n",
       " 'startswith',\n",
       " 'strip',\n",
       " 'swapcase',\n",
       " 'title',\n",
       " 'translate',\n",
       " 'upper',\n",
       " 'zfill']"
      ]
     },
     "execution_count": 6,
     "metadata": {},
     "output_type": "execute_result"
    }
   ],
   "source": [
    "[i for i in dir(str) if \"__\" not in i]"
   ]
  },
  {
   "cell_type": "code",
   "execution_count": 10,
   "metadata": {},
   "outputs": [
    {
     "data": {
      "text/plain": [
       "'Pakistan value a = 7 and value b = 9'"
      ]
     },
     "execution_count": 10,
     "metadata": {},
     "output_type": "execute_result"
    }
   ],
   "source": [
    "a = 7\n",
    "b = 9\n",
    "\n",
    "# {} place holder\n",
    "#               0                1              0 1\n",
    "\"Pakistan value a = {} and value b = {}\".format(a,b)"
   ]
  },
  {
   "cell_type": "code",
   "execution_count": 9,
   "metadata": {},
   "outputs": [
    {
     "name": "stdout",
     "output_type": "stream",
     "text": [
      "Muhammad hamza\n",
      "muhammad hamza\n"
     ]
    }
   ],
   "source": [
    "name : str = \"MuHaMmad HaMzA\"\n",
    "print(name.capitalize())\n",
    "print(name.lower())"
   ]
  },
  {
   "cell_type": "code",
   "execution_count": 11,
   "metadata": {},
   "outputs": [
    {
     "name": "stdout",
     "output_type": "stream",
     "text": [
      " \n",
      "PIAIC Student Card\n",
      "Student Name: Muhammad Hamza\n",
      "Father's Name: Shabbir Ahmed\n",
      "Education: Master in data science\n",
      "Age: 23\n",
      "\n",
      "\n"
     ]
    }
   ],
   "source": [
    "name : str = \"Muhammad Hamza\"\n",
    "fname : str = \"Shabbir Ahmed\"\n",
    "education : str = \"Master in data science\"\n",
    "age : int = 23\n",
    "\n",
    "card : str = \"\"\" \n",
    "PIAIC Student Card\n",
    "Student Name: {}\n",
    "Father's Name: {}\n",
    "Education: {}\n",
    "Age: {}\n",
    "\n",
    "\"\"\".format(name, fname, education, age)\n",
    "\n",
    "print(card)"
   ]
  },
  {
   "cell_type": "code",
   "execution_count": 13,
   "metadata": {},
   "outputs": [
    {
     "name": "stdout",
     "output_type": "stream",
     "text": [
      " \n",
      "PIAIC Student Card\n",
      "Student Name: Muhammad Hamza\n",
      "Father's Name: Shabbir Ahmed\n",
      "Education: Master in data science\n",
      "Age: 23\n",
      "\n",
      "\n"
     ]
    }
   ],
   "source": [
    "name : str = \"Muhammad Hamza\"\n",
    "fname : str = \"Shabbir Ahmed\"\n",
    "education : str = \"Master in data science\"\n",
    "age : int = 23\n",
    "\n",
    "card : str = \"\"\" \n",
    "PIAIC Student Card\n",
    "Student Name: {1}\n",
    "Father's Name: {0}\n",
    "Education: {3}\n",
    "Age: {2}\n",
    "\n",
    "\"\"\".format(fname, name, age, education)\n",
    "#            0      1     2     3\n",
    "\n",
    "print(card)"
   ]
  },
  {
   "cell_type": "code",
   "execution_count": 14,
   "metadata": {},
   "outputs": [
    {
     "name": "stdout",
     "output_type": "stream",
     "text": [
      " \n",
      "PIAIC Student Card\n",
      "Student Name: Muhammad Hamza\n",
      "Father's Name: Shabbir Ahmed\n",
      "Education: Master in data science\n",
      "Age: 23\n",
      "\n",
      "\n"
     ]
    }
   ],
   "source": [
    "name : str = \"Muhammad Hamza\"\n",
    "fname : str = \"Shabbir Ahmed\"\n",
    "education : str = \"Master in data science\"\n",
    "age : int = 23\n",
    "\n",
    "card : str = \"\"\" \n",
    "PIAIC Student Card\n",
    "Student Name: {a}\n",
    "Father's Name: {b}\n",
    "Education: {c}\n",
    "Age: {d}\n",
    "\n",
    "\"\"\".format(a=name, b=fname, c=education, d=age)\n",
    "\n",
    "print(card)"
   ]
  },
  {
   "cell_type": "markdown",
   "metadata": {},
   "source": [
    "# Recomended"
   ]
  },
  {
   "cell_type": "code",
   "execution_count": 15,
   "metadata": {},
   "outputs": [
    {
     "name": "stdout",
     "output_type": "stream",
     "text": [
      " \n",
      "PIAIC Student Card\n",
      "Student Name: Muhammad Hamza\n",
      "Father's Name: Shabbir Ahmed\n",
      "Education: Master in data science\n",
      "Age: 23\n",
      "\n",
      "Total: 17\n",
      "\n",
      "\n"
     ]
    }
   ],
   "source": [
    "name : str = \"Muhammad Hamza\"\n",
    "fname : str = \"Shabbir Ahmed\"\n",
    "education : str = \"Master in data science\"\n",
    "age : int = 23\n",
    "\n",
    "card : str = f\"\"\" \n",
    "PIAIC Student Card\n",
    "Student Name: {name}\n",
    "Father's Name: {fname}\n",
    "Education: {education}\n",
    "Age: {age}\n",
    "\n",
    "Total: {6 + 9 + 2}\n",
    "\n",
    "\"\"\"\n",
    "\n",
    "print(card)"
   ]
  },
  {
   "cell_type": "code",
   "execution_count": 17,
   "metadata": {},
   "outputs": [
    {
     "name": "stdout",
     "output_type": "stream",
     "text": [
      "My Name Is Muhammad Hamza\n",
      "14\n"
     ]
    }
   ],
   "source": [
    "student_code : str = \"\"\"\n",
    "print(\"My Name Is Muhammad Hamza\")\n",
    "a : int = 5\n",
    "b : int = 9\n",
    "print(a + b)\n",
    "\"\"\"\n",
    "\n",
    "exec(student_code)"
   ]
  },
  {
   "cell_type": "markdown",
   "metadata": {},
   "source": [
    "# Explore string methods and attributes\n",
    "\n",
    "pre-define global functions we have used\n",
    "* print\n",
    "* type\n",
    "* id\n",
    "* dir\n",
    "* len"
   ]
  },
  {
   "cell_type": "code",
   "execution_count": 19,
   "metadata": {},
   "outputs": [
    {
     "name": "stdout",
     "output_type": "stream",
     "text": [
      "['capitalize', 'casefold', 'center', 'count', 'encode', 'endswith', 'expandtabs', 'find', 'format', 'format_map', 'index', 'isalnum', 'isalpha', 'isascii', 'isdecimal', 'isdigit', 'isidentifier', 'islower', 'isnumeric', 'isprintable', 'isspace', 'istitle', 'isupper', 'join', 'ljust', 'lower', 'lstrip', 'maketrans', 'partition', 'removeprefix', 'removesuffix', 'replace', 'rfind', 'rindex', 'rjust', 'rpartition', 'rsplit', 'rstrip', 'split', 'splitlines', 'startswith', 'strip', 'swapcase', 'title', 'translate', 'upper', 'zfill']\n",
      "47\n"
     ]
    }
   ],
   "source": [
    "a: list[str] = [i for i in dir(str) if \"__\" not in i]\n",
    "print(a)\n",
    "print(len(a))"
   ]
  },
  {
   "cell_type": "code",
   "execution_count": 20,
   "metadata": {},
   "outputs": [
    {
     "name": "stdout",
     "output_type": "stream",
     "text": [
      "Muhammad hamza\n"
     ]
    }
   ],
   "source": [
    "name : str = \"MuHaMmad HaMza\"\n",
    "\n",
    "# variablr_name.method()\n",
    "print(name.capitalize())"
   ]
  },
  {
   "cell_type": "code",
   "execution_count": 21,
   "metadata": {},
   "outputs": [
    {
     "name": "stdout",
     "output_type": "stream",
     "text": [
      "MuHaMmad HaMza\n",
      "muhammad hamza\n"
     ]
    }
   ],
   "source": [
    "name : str = \"MuHaMmad HaMza\"\n",
    "\n",
    "# variablr_name.method()\n",
    "print(name)\n",
    "print(name.casefold())"
   ]
  },
  {
   "cell_type": "code",
   "execution_count": 22,
   "metadata": {},
   "outputs": [
    {
     "data": {
      "text/plain": [
       "'       MuHaMmad HaMza      '"
      ]
     },
     "metadata": {},
     "output_type": "display_data"
    },
    {
     "data": {
      "text/plain": [
       "'MuHaMmad HaMza      '"
      ]
     },
     "metadata": {},
     "output_type": "display_data"
    }
   ],
   "source": [
    "name : str = \"       MuHaMmad HaMza      \"\n",
    "\n",
    "# variablr_name.method()\n",
    "display(name)\n",
    "display(name.lstrip())"
   ]
  },
  {
   "cell_type": "code",
   "execution_count": 23,
   "metadata": {},
   "outputs": [
    {
     "data": {
      "text/plain": [
       "'       MuHaMmad HaMza      '"
      ]
     },
     "metadata": {},
     "output_type": "display_data"
    },
    {
     "data": {
      "text/plain": [
       "'MuHaMmad HaMza'"
      ]
     },
     "metadata": {},
     "output_type": "display_data"
    }
   ],
   "source": [
    "name : str = \"       MuHaMmad HaMza      \"\n",
    "\n",
    "# variablr_name.method()\n",
    "display(name)\n",
    "display(name.strip())"
   ]
  },
  {
   "cell_type": "code",
   "execution_count": 24,
   "metadata": {},
   "outputs": [
    {
     "data": {
      "text/plain": [
       "'       MuHaMmad     HaMza      '"
      ]
     },
     "metadata": {},
     "output_type": "display_data"
    },
    {
     "data": {
      "text/plain": [
       "'MuHaMmad     HaMza'"
      ]
     },
     "metadata": {},
     "output_type": "display_data"
    }
   ],
   "source": [
    "name : str = \"       MuHaMmad     HaMza      \"\n",
    "\n",
    "# variablr_name.method()\n",
    "display(name)\n",
    "display(name.strip())"
   ]
  },
  {
   "cell_type": "code",
   "execution_count": 25,
   "metadata": {},
   "outputs": [
    {
     "data": {
      "text/plain": [
       "'       MuHaMmad     HaMza      '"
      ]
     },
     "metadata": {},
     "output_type": "display_data"
    },
    {
     "data": {
      "text/plain": [
       "' MuHaMmad HaMza '"
      ]
     },
     "metadata": {},
     "output_type": "display_data"
    }
   ],
   "source": [
    "import re\n",
    "\n",
    "name : str = \"       MuHaMmad     HaMza      \"\n",
    "\n",
    "# variablr_name.method()\n",
    "display(name)\n",
    "\n",
    "name1 : str = re.sub(' {2,100}',' ', name)\n",
    "display(name1)"
   ]
  },
  {
   "cell_type": "code",
   "execution_count": 26,
   "metadata": {},
   "outputs": [
    {
     "data": {
      "text/plain": [
       "'       MuHaMmad     HaMza      '"
      ]
     },
     "metadata": {},
     "output_type": "display_data"
    },
    {
     "data": {
      "text/plain": [
       "'MuHaMmad HaMza'"
      ]
     },
     "metadata": {},
     "output_type": "display_data"
    }
   ],
   "source": [
    "import re\n",
    "\n",
    "name : str = \"       MuHaMmad     HaMza      \"\n",
    "\n",
    "# variablr_name.method()\n",
    "display(name)\n",
    "\n",
    "name1 : str = re.sub(' {2,100}',' ', name).strip()\n",
    "display(name1)"
   ]
  },
  {
   "cell_type": "code",
   "execution_count": 28,
   "metadata": {},
   "outputs": [
    {
     "data": {
      "text/plain": [
       "'MuHaMmad HaMza'"
      ]
     },
     "metadata": {},
     "output_type": "display_data"
    },
    {
     "data": {
      "text/plain": [
       "'Muhammad Hamza'"
      ]
     },
     "metadata": {},
     "output_type": "display_data"
    }
   ],
   "source": [
    "name : str = \"MuHaMmad HaMza\"\n",
    "\n",
    "# variablr_name.method()\n",
    "display(name)\n",
    "display(name.title())"
   ]
  }
 ],
 "metadata": {
  "kernelspec": {
   "display_name": "python12",
   "language": "python",
   "name": "python3"
  },
  "language_info": {
   "codemirror_mode": {
    "name": "ipython",
    "version": 3
   },
   "file_extension": ".py",
   "mimetype": "text/x-python",
   "name": "python",
   "nbconvert_exporter": "python",
   "pygments_lexer": "ipython3",
   "version": "3.12.0"
  }
 },
 "nbformat": 4,
 "nbformat_minor": 2
}
