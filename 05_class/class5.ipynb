{
 "cells": [
  {
   "cell_type": "markdown",
   "metadata": {},
   "source": [
    "# List\n",
    "\n",
    "* iteration operation with loop\n",
    "* apply any operation on elemrnt"
   ]
  },
  {
   "cell_type": "code",
   "execution_count": 1,
   "metadata": {},
   "outputs": [
    {
     "name": "stdout",
     "output_type": "stream",
     "text": [
      "['Sir Zia', 'Sir Qasim', 'Sir Hamzah']\n"
     ]
    }
   ],
   "source": [
    "names : list[str] = ['Sir Zia','Sir Qasim','Sir Hamzah']\n",
    "print(names)"
   ]
  },
  {
   "cell_type": "code",
   "execution_count": 2,
   "metadata": {},
   "outputs": [
    {
     "name": "stdout",
     "output_type": "stream",
     "text": [
      "Sir Zia\n",
      "Sir Qasim\n",
      "Sir Hamzah\n"
     ]
    }
   ],
   "source": [
    "names : list[str] = ['Sir Zia','Sir Qasim','Sir Hamzah']\n",
    "\n",
    "for name in names:\n",
    "    print(name)\n"
   ]
  },
  {
   "cell_type": "code",
   "execution_count": 4,
   "metadata": {},
   "outputs": [
    {
     "name": "stdout",
     "output_type": "stream",
     "text": [
      "Welcome dear teachers Sir Zia\n",
      "Welcome dear teachers Sir Qasim\n",
      "Welcome dear teachers Sir Hamzah\n"
     ]
    }
   ],
   "source": [
    "for name in names:\n",
    "    print(f'Welcome dear teachers {name.title()}')"
   ]
  },
  {
   "cell_type": "code",
   "execution_count": 6,
   "metadata": {},
   "outputs": [
    {
     "name": "stdout",
     "output_type": "stream",
     "text": [
      "Welcome dear teachers Sir Zia\n",
      "Gen Ai Team\n",
      "\n",
      "Welcome dear teachers Sir Qasim\n",
      "Gen Ai Team\n",
      "\n",
      "Welcome dear teachers Sir Hamzah\n",
      "Gen Ai Team\n",
      "\n"
     ]
    }
   ],
   "source": [
    "for name in names:\n",
    "    print(f'Welcome dear teachers {name.title()}')\n",
    "    print(\"Gen Ai Team\\n\")"
   ]
  },
  {
   "cell_type": "code",
   "execution_count": 7,
   "metadata": {},
   "outputs": [
    {
     "name": "stdout",
     "output_type": "stream",
     "text": [
      "Welcome dear teachers Sir Zia\n",
      "Gen Ai Team\n",
      "\n",
      "Welcome dear teachers Sir Qasim\n",
      "Gen Ai Team\n",
      "\n",
      "Welcome dear teachers Sir Hamzah\n",
      "Gen Ai Team\n",
      "\n",
      "Pakistan zinda bad\n"
     ]
    }
   ],
   "source": [
    "for name in names:\n",
    "    print(f'Welcome dear teachers {name.title()}')\n",
    "    print(\"Gen Ai Team\\n\")\n",
    "\n",
    "print(\"Pakistan zinda bad\")\n"
   ]
  },
  {
   "cell_type": "code",
   "execution_count": 2,
   "metadata": {},
   "outputs": [
    {
     "name": "stdout",
     "output_type": "stream",
     "text": [
      "Welcome dear teacher Sir Zia\n",
      "Gen Ai Team\n",
      "\n",
      "Welcome dear teacher Sir Qasim\n",
      "Gen Ai Team\n",
      "\n"
     ]
    }
   ],
   "source": [
    "names : list[str] = ['Sir Zia','Sir Qasim','Sir Hamzah']\n",
    "for name in names[0:2] :\n",
    "    print(f'Welcome dear teacher {name.title()}')\n",
    "    print(\"Gen Ai Team\\n\")"
   ]
  },
  {
   "cell_type": "code",
   "execution_count": 4,
   "metadata": {},
   "outputs": [
    {
     "name": "stdout",
     "output_type": "stream",
     "text": [
      "('Hamza', '123')\n",
      "('Azan', '456')\n",
      "('Hamid', '789')\n"
     ]
    }
   ],
   "source": [
    "\n",
    "data_base : list[tuple[str,str]] = [(\"Hamza\", '123'),\n",
    "                                     (\"Azan\", '456'),\n",
    "                                     (\"Hamid\", '789')]\n",
    "\n",
    "for row in data_base:\n",
    "    print(row)"
   ]
  },
  {
   "cell_type": "code",
   "execution_count": 5,
   "metadata": {},
   "outputs": [
    {
     "name": "stdout",
     "output_type": "stream",
     "text": [
      "Hamza 123\n",
      "Azan 456\n",
      "Hamid 789\n"
     ]
    }
   ],
   "source": [
    "\n",
    "data_base : list[tuple[str,str]] = [(\"Hamza\", '123'),\n",
    "                                     (\"Azan\", '456'),\n",
    "                                     (\"Hamid\", '789')]\n",
    "\n",
    "for row in data_base:\n",
    "    user,password = row\n",
    "    print(user,password)"
   ]
  },
  {
   "cell_type": "code",
   "execution_count": 12,
   "metadata": {},
   "outputs": [],
   "source": [
    "\n",
    "data_base : list[tuple[str,str]] = [(\"Hamza\", '123'),\n",
    "                                     (\"Azan\", '456'),\n",
    "                                     (\"Hamid\", '789')]\n",
    "\n",
    "input_user : str = input(\"Enter your name\")\n",
    "input_password : str = input(\"Enter your password\")\n",
    "\n",
    "for row in data_base:\n",
    "    user,password = row\n",
    "    if input_user == user and input_password == password:\n",
    "     print(\"valid user\")\n",
    "    break\n"
   ]
  },
  {
   "cell_type": "code",
   "execution_count": 2,
   "metadata": {},
   "outputs": [
    {
     "name": "stdout",
     "output_type": "stream",
     "text": [
      "valid user Hamza,123\n"
     ]
    }
   ],
   "source": [
    "\n",
    "data_base : list[tuple[str,str]] = [(\"Hamza\", '123'),\n",
    "                                     (\"Azan\", '456'),\n",
    "                                     (\"Hamid\", '789')]\n",
    "\n",
    "input_user : str = input(\"Enter your name\")\n",
    "input_password : str = input(\"Enter your password\")\n",
    "\n",
    "for row in data_base:\n",
    "    user,password = row\n",
    "    if input_user == user and input_password == password:\n",
    "     print(f'''valid user {user},{password}''')\n",
    "    break\n",
    "\n",
    "else:\n",
    "    print(\"Invalid\")"
   ]
  },
  {
   "cell_type": "code",
   "execution_count": 7,
   "metadata": {},
   "outputs": [
    {
     "data": {
      "text/plain": [
       "[(0, 'Hamza'), (1, 'Azan'), (2, 'Hamid'), (3, 'Kamran')]"
      ]
     },
     "execution_count": 7,
     "metadata": {},
     "output_type": "execute_result"
    }
   ],
   "source": [
    "#            0       1      2        3\n",
    "friends = [\"Hamza\",\"Azan\",\"Hamid\",\"Kamran\"]\n",
    "\n",
    "list(enumerate(friends))\n"
   ]
  },
  {
   "cell_type": "code",
   "execution_count": 8,
   "metadata": {},
   "outputs": [
    {
     "name": "stdout",
     "output_type": "stream",
     "text": [
      "0 Hamza\n",
      "1 Azan\n",
      "2 Hamid\n",
      "3 Kamran\n"
     ]
    }
   ],
   "source": [
    "#            0       1      2        3\n",
    "friends = [\"Hamza\",\"Azan\",\"Hamid\",\"Kamran\"]\n",
    "\n",
    "for index,name in enumerate(friends):\n",
    "    print(index,name)\n"
   ]
  },
  {
   "cell_type": "markdown",
   "metadata": {},
   "source": [
    "# Numbers with loop\n",
    " * `range (start,end,step)`"
   ]
  },
  {
   "cell_type": "code",
   "execution_count": 3,
   "metadata": {},
   "outputs": [
    {
     "data": {
      "text/plain": [
       "range(0, 10)"
      ]
     },
     "execution_count": 3,
     "metadata": {},
     "output_type": "execute_result"
    }
   ],
   "source": [
    "range(10)"
   ]
  },
  {
   "cell_type": "code",
   "execution_count": 4,
   "metadata": {},
   "outputs": [
    {
     "data": {
      "text/plain": [
       "[0, 1, 2, 3, 4, 5, 6, 7, 8, 9]"
      ]
     },
     "execution_count": 4,
     "metadata": {},
     "output_type": "execute_result"
    }
   ],
   "source": [
    "list(range(10)) # starting = 0, ending = n-1"
   ]
  },
  {
   "cell_type": "code",
   "execution_count": 5,
   "metadata": {},
   "outputs": [
    {
     "data": {
      "text/plain": [
       "[2, 3, 4, 5, 6, 7, 8, 9]"
      ]
     },
     "execution_count": 5,
     "metadata": {},
     "output_type": "execute_result"
    }
   ],
   "source": [
    "list(range(2,10)) # starting = 0, ending = n-1"
   ]
  },
  {
   "cell_type": "code",
   "execution_count": 6,
   "metadata": {},
   "outputs": [
    {
     "data": {
      "text/plain": [
       "[2, 4, 6, 8, 10, 12, 14, 16, 18, 20]"
      ]
     },
     "execution_count": 6,
     "metadata": {},
     "output_type": "execute_result"
    }
   ],
   "source": [
    "list(range(2,21,2)) # starting = 0, ending = n-1"
   ]
  },
  {
   "cell_type": "code",
   "execution_count": 9,
   "metadata": {},
   "outputs": [
    {
     "name": "stdout",
     "output_type": "stream",
     "text": [
      "2\n",
      "4\n",
      "6\n",
      "8\n",
      "10\n",
      "12\n",
      "14\n",
      "16\n",
      "18\n",
      "20\n"
     ]
    }
   ],
   "source": [
    "for n in range(2,21,2):\n",
    "    print(n)"
   ]
  },
  {
   "cell_type": "code",
   "execution_count": 11,
   "metadata": {},
   "outputs": [
    {
     "name": "stdout",
     "output_type": "stream",
     "text": [
      "2 X 1 = 2\n",
      "2 X 2 = 4\n",
      "2 X 3 = 6\n",
      "2 X 4 = 8\n",
      "2 X 5 = 10\n",
      "2 X 6 = 12\n",
      "2 X 7 = 14\n",
      "2 X 8 = 16\n",
      "2 X 9 = 18\n",
      "2 X 10 = 20\n"
     ]
    }
   ],
   "source": [
    "for n in range(1,11):\n",
    "    print(f\"{2} X {n} = {n*2}\")"
   ]
  },
  {
   "cell_type": "code",
   "execution_count": 12,
   "metadata": {},
   "outputs": [
    {
     "name": "stdout",
     "output_type": "stream",
     "text": [
      "[1, 4, 9, 16, 25, 36, 49, 64, 81, 100]\n"
     ]
    }
   ],
   "source": [
    "squares : list[int] = []\n",
    "for value in range(1,11):\n",
    "    square = value ** 2\n",
    "    squares.append(square)\n",
    "print(squares)\n"
   ]
  },
  {
   "cell_type": "markdown",
   "metadata": {},
   "source": [
    "# List Comprehensive\n",
    "```\n",
    "for item in items_list:\n",
    "    lopp_body\n",
    "```\n",
    "\n",
    "### Comprehensive Style\n",
    "```\n",
    "lopp_body for item in items_list\n",
    "```"
   ]
  },
  {
   "cell_type": "code",
   "execution_count": 13,
   "metadata": {},
   "outputs": [
    {
     "data": {
      "text/plain": [
       "[1, 4, 9, 16, 25, 36, 49, 64, 81, 100]"
      ]
     },
     "execution_count": 13,
     "metadata": {},
     "output_type": "execute_result"
    }
   ],
   "source": [
    "[i**2 for i in range(1,11)]"
   ]
  },
  {
   "cell_type": "markdown",
   "metadata": {},
   "source": [
    "# Tupples (immutable)"
   ]
  },
  {
   "cell_type": "code",
   "execution_count": 14,
   "metadata": {},
   "outputs": [
    {
     "name": "stdout",
     "output_type": "stream",
     "text": [
      "A\n",
      "['A', 'B']\n"
     ]
    }
   ],
   "source": [
    "names : tuple[str] = ['A', 'B', 'C']\n",
    "print(names[0])\n",
    "print(names[0:2])"
   ]
  },
  {
   "cell_type": "code",
   "execution_count": 17,
   "metadata": {},
   "outputs": [
    {
     "ename": "TypeError",
     "evalue": "'tuple' object does not support item assignment",
     "output_type": "error",
     "traceback": [
      "\u001b[1;31m---------------------------------------------------------------------------\u001b[0m",
      "\u001b[1;31mTypeError\u001b[0m                                 Traceback (most recent call last)",
      "\u001b[1;32mc:\\Users\\HCC\\Desktop\\python\\05_class\\class5.ipynb Cell 26\u001b[0m line \u001b[0;36m2\n\u001b[0;32m      <a href='vscode-notebook-cell:/c%3A/Users/HCC/Desktop/python/05_class/class5.ipynb#X35sZmlsZQ%3D%3D?line=0'>1</a>\u001b[0m names : \u001b[39mtuple\u001b[39m[\u001b[39mstr\u001b[39m] \u001b[39m=\u001b[39m (\u001b[39m'\u001b[39m\u001b[39mA\u001b[39m\u001b[39m'\u001b[39m, \u001b[39m'\u001b[39m\u001b[39mB\u001b[39m\u001b[39m'\u001b[39m, \u001b[39m'\u001b[39m\u001b[39mC\u001b[39m\u001b[39m'\u001b[39m)\n\u001b[1;32m----> <a href='vscode-notebook-cell:/c%3A/Users/HCC/Desktop/python/05_class/class5.ipynb#X35sZmlsZQ%3D%3D?line=1'>2</a>\u001b[0m names[\u001b[39m0\u001b[39;49m] \u001b[39m=\u001b[39m \u001b[39m\"\u001b[39m\u001b[39mPakistan\u001b[39m\u001b[39m\"\u001b[39m\n",
      "\u001b[1;31mTypeError\u001b[0m: 'tuple' object does not support item assignment"
     ]
    }
   ],
   "source": [
    "names : tuple[str] = ('A', 'B', 'C')\n",
    "names[0] = \"Pakistan\""
   ]
  },
  {
   "cell_type": "code",
   "execution_count": 19,
   "metadata": {},
   "outputs": [
    {
     "name": "stdout",
     "output_type": "stream",
     "text": [
      "('Pak', 'B', 'C')\n"
     ]
    }
   ],
   "source": [
    "names : tuple[str] = ('A', 'B', 'C')\n",
    "names : tuple[str] = ('Pak', 'B', 'C')\n",
    "\n",
    "print(names)"
   ]
  },
  {
   "cell_type": "code",
   "execution_count": 21,
   "metadata": {},
   "outputs": [
    {
     "name": "stdout",
     "output_type": "stream",
     "text": [
      "('A', [1, 2, 3], True)\n"
     ]
    }
   ],
   "source": [
    "from typing import Any\n",
    "\n",
    "data : tuple[Any] = (\"A\", [1,2,3], True)\n",
    "print(data)"
   ]
  },
  {
   "cell_type": "code",
   "execution_count": null,
   "metadata": {},
   "outputs": [],
   "source": [
    "from typing import Any\n",
    "\n",
    "data : tuple[Any] = (\"A\", [1,2,3], True)\n",
    "print(data)"
   ]
  }
 ],
 "metadata": {
  "kernelspec": {
   "display_name": "python12",
   "language": "python",
   "name": "python3"
  },
  "language_info": {
   "codemirror_mode": {
    "name": "ipython",
    "version": 3
   },
   "file_extension": ".py",
   "mimetype": "text/x-python",
   "name": "python",
   "nbconvert_exporter": "python",
   "pygments_lexer": "ipython3",
   "version": "3.12.0"
  }
 },
 "nbformat": 4,
 "nbformat_minor": 2
}
