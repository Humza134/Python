{
 "cells": [
  {
   "cell_type": "code",
   "execution_count": 5,
   "metadata": {},
   "outputs": [
    {
     "name": "stdout",
     "output_type": "stream",
     "text": [
      "object height 6 feet\n",
      "object eye color blue\n",
      "Mother speaking function: Pakistan Zinda Bad\n",
      "Muhammad Hamza\n"
     ]
    }
   ],
   "source": [
    "class Mother:\n",
    "    def __init__(self, name:str) -> None:\n",
    "        self.name : str = name\n",
    "        self.eye_color : str = \"blue\"\n",
    "\n",
    "    def speaking(self, words:str)->str:\n",
    "        return f\"Mother speaking function: {words}\" \n",
    "\n",
    "\n",
    "class Father:\n",
    "    def __init__(self, name:str) -> None:\n",
    "        self.name : str = name\n",
    "        self.height : str = \"6 feet\"\n",
    "\n",
    "class Child(Mother,Father):\n",
    "    def __init__(self, mother_name:str, father_name:str, child_name:str) -> None:\n",
    "        Mother.__init__(self,mother_name)\n",
    "        Father.__init__(self,father_name)\n",
    "        self.child_name : str = child_name\n",
    "\n",
    "\n",
    "Hamza : Child = Child(\"Naseem Akhter\",\"Shabbir Ahmer\", \"Muhammad Hamza\")\n",
    "print(f\"object height {Hamza.height}\")\n",
    "print(f\"object eye color {Hamza.eye_color}\")\n",
    "print(Hamza.speaking(\"Pakistan Zinda Bad\"))\n",
    "print(Hamza.child_name)\n",
    "\n",
    "        "
   ]
  },
  {
   "cell_type": "code",
   "execution_count": 2,
   "metadata": {},
   "outputs": [
    {
     "data": {
      "text/plain": [
       "['__class__',\n",
       " '__delattr__',\n",
       " '__dict__',\n",
       " '__dir__',\n",
       " '__doc__',\n",
       " '__eq__',\n",
       " '__format__',\n",
       " '__ge__',\n",
       " '__getattribute__',\n",
       " '__getstate__',\n",
       " '__gt__',\n",
       " '__hash__',\n",
       " '__init__',\n",
       " '__init_subclass__',\n",
       " '__le__',\n",
       " '__lt__',\n",
       " '__module__',\n",
       " '__ne__',\n",
       " '__new__',\n",
       " '__reduce__',\n",
       " '__reduce_ex__',\n",
       " '__repr__',\n",
       " '__setattr__',\n",
       " '__sizeof__',\n",
       " '__str__',\n",
       " '__subclasshook__',\n",
       " '__weakref__',\n",
       " 'child_name',\n",
       " 'eye_color',\n",
       " 'height',\n",
       " 'name',\n",
       " 'speaking']"
      ]
     },
     "execution_count": 2,
     "metadata": {},
     "output_type": "execute_result"
    }
   ],
   "source": [
    "dir(Hamza)"
   ]
  },
  {
   "cell_type": "code",
   "execution_count": 4,
   "metadata": {},
   "outputs": [
    {
     "name": "stdout",
     "output_type": "stream",
     "text": [
      "9\n"
     ]
    }
   ],
   "source": [
    "def my_sum(*nums:int)->int:\n",
    "    total : int = 0\n",
    "    for i in nums:\n",
    "        total +=i\n",
    "    return total\n",
    "\n",
    "print(my_sum(3,5,1))"
   ]
  },
  {
   "cell_type": "markdown",
   "metadata": {},
   "source": [
    "# Overloading"
   ]
  },
  {
   "cell_type": "code",
   "execution_count": 5,
   "metadata": {},
   "outputs": [],
   "source": [
    "from typing import Union, overload\n",
    "\n",
    "\n",
    "@overload\n",
    "def add(x:int, y:int)->int: \n",
    "    ...\n",
    "\n",
    "@overload\n",
    "def add(x:float, y:float)->float:\n",
    "    ...\n",
    "    \n",
    "@overload\n",
    "def add(x:str, y:str)->str:\n",
    "    ...\n",
    "\n",
    "def add(x:Union [int ,float ,str], y:Union [int ,float ,str])->Union [int,float,str]: # type: ignore\n",
    "    if isinstance(x, int) and isinstance(y, int):\n",
    "        return x + y\n",
    "    if isinstance(x, float) and isinstance(y, float):\n",
    "        return x + y\n",
    "    if isinstance(x, str) and isinstance(y, str):\n",
    "        return x + y\n",
    "## Usage Example\n",
    "\n",
    "result1 = add(1,2) # should return 3\n",
    "result2 = add(1.5,2.5) # should return 4.0\n",
    "result3 = add(\"Hello\",\"World\") # should return Hello World"
   ]
  },
  {
   "cell_type": "markdown",
   "metadata": {},
   "source": [
    "# Method Overloading"
   ]
  },
  {
   "cell_type": "code",
   "execution_count": 6,
   "metadata": {},
   "outputs": [
    {
     "name": "stdout",
     "output_type": "stream",
     "text": [
      "3\n",
      "4.0\n",
      "HelloWorld\n"
     ]
    }
   ],
   "source": [
    "from typing import Union, overload\n",
    "class Adder:\n",
    "\n",
    "    @overload\n",
    "    def add(self, x:int, y:int)->int: \n",
    "        ...\n",
    "\n",
    "    @overload\n",
    "    def add(self, x:float, y:float)->float:\n",
    "        ...\n",
    "    \n",
    "    @overload\n",
    "    def add(self, x:str, y:str)->str:\n",
    "        ...\n",
    "\n",
    "    def add(self, x:Union [int ,float ,str], y:Union [int ,float ,str])->Union [int,float,str]: # type: ignore\n",
    "        if isinstance(x, int) and isinstance(y, int):\n",
    "            return x + y\n",
    "        if isinstance(x, float) and isinstance(y, float):\n",
    "            return x + y\n",
    "        if isinstance(x, str) and isinstance(y, str):\n",
    "            return x + y\n",
    "## Usage Example\n",
    "adder = Adder()\n",
    "result1 = adder.add(1,2) # should return 3\n",
    "result2 = adder.add(1.5,2.5) # should return 4.0\n",
    "result3 = adder.add(\"Hello\",\"World\") # should return Hello World\n",
    "\n",
    "print(result1)\n",
    "print(result2)\n",
    "print(result3)"
   ]
  },
  {
   "cell_type": "markdown",
   "metadata": {},
   "source": [
    "# Polymorphism & Overridding"
   ]
  },
  {
   "cell_type": "code",
   "execution_count": 7,
   "metadata": {},
   "outputs": [
    {
     "name": "stdout",
     "output_type": "stream",
     "text": [
      "Bird is eating bread\n",
      "Animal is eating grass\n"
     ]
    }
   ],
   "source": [
    "class Animal():\n",
    "    def eating(self, food:str)->None:\n",
    "        print(f\"Animal is eating {food}\")\n",
    "class Bird(Animal):\n",
    "    def eating(self, food: str) -> None:\n",
    "        print(f\"Bird is eating {food}\")\n",
    "\n",
    "bird : Bird = Bird()\n",
    "bird.eating(\"bread\")\n",
    "\n",
    "animal : Animal = Animal()\n",
    "animal.eating(\"grass\")"
   ]
  },
  {
   "cell_type": "markdown",
   "metadata": {},
   "source": [
    "## Polymorphism"
   ]
  },
  {
   "cell_type": "code",
   "execution_count": 8,
   "metadata": {},
   "outputs": [
    {
     "name": "stdout",
     "output_type": "stream",
     "text": [
      "Bird is eating grass\n"
     ]
    }
   ],
   "source": [
    "animal : Animal = Bird() # run time it will decide which object method it will be run\n",
    "animal.eating(\"grass\")"
   ]
  },
  {
   "cell_type": "markdown",
   "metadata": {},
   "source": [
    "# Static Method and Static Variables(Class Variables)"
   ]
  },
  {
   "cell_type": "code",
   "execution_count": 9,
   "metadata": {},
   "outputs": [
    {
     "name": "stdout",
     "output_type": "stream",
     "text": [
      "Addition 30\n",
      "Multiplication 30\n"
     ]
    }
   ],
   "source": [
    "class MathOperation:\n",
    "\n",
    "    @staticmethod\n",
    "    def add(x:int, y:int)->int:\n",
    "        \"\"\"Add two numbers.\"\"\"\n",
    "        return x + y\n",
    "    \n",
    "    @staticmethod\n",
    "    def multiply(x:int, y:int)->int:\n",
    "        \"\"\"Multiply two numbers.\"\"\"\n",
    "        return x * y\n",
    "    \n",
    "    # using the static method\n",
    "\n",
    "result_add = MathOperation.add(10,20)\n",
    "result_multiply = MathOperation.add(10,20)\n",
    "\n",
    "print(\"Addition\", result_add)\n",
    "print(\"Multiplication\", result_multiply)"
   ]
  }
 ],
 "metadata": {
  "kernelspec": {
   "display_name": "python12",
   "language": "python",
   "name": "python3"
  },
  "language_info": {
   "codemirror_mode": {
    "name": "ipython",
    "version": 3
   },
   "file_extension": ".py",
   "mimetype": "text/x-python",
   "name": "python",
   "nbconvert_exporter": "python",
   "pygments_lexer": "ipython3",
   "version": "3.12.0"
  }
 },
 "nbformat": 4,
 "nbformat_minor": 2
}
